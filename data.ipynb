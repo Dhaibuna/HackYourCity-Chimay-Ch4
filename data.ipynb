{
 "metadata": {
  "language_info": {
   "codemirror_mode": {
    "name": "ipython",
    "version": 3
   },
   "file_extension": ".py",
   "mimetype": "text/x-python",
   "name": "python",
   "nbconvert_exporter": "python",
   "pygments_lexer": "ipython3",
   "version": "3.8.5-final"
  },
  "orig_nbformat": 2,
  "kernelspec": {
   "name": "python38564bit5f2391659b0b4e51a5ae522873c52736",
   "display_name": "Python 3.8.5 64-bit",
   "language": "python"
  }
 },
 "nbformat": 4,
 "nbformat_minor": 2,
 "cells": [
  {
   "cell_type": "code",
   "execution_count": 1,
   "metadata": {},
   "outputs": [],
   "source": [
    "# import des librairies\n",
    "import pandas as pd\n",
    "import numpy as np"
   ]
  },
  {
   "cell_type": "code",
   "execution_count": 2,
   "metadata": {},
   "outputs": [
    {
     "output_type": "stream",
     "name": "stdout",
     "text": [
      "/home/ousmane/Hackathon/HackYourCity-Chimay-Ch4\n",
      "--2021-02-05 01:05:21--  https://www.dropbox.com/sh/zgxpx85i6dvfuk9/AAAXEh50WXOu3KtvwOKTy0OIa/Donn%C3%A9es%20Chimay?dl=0&preview=DB+-+Chimay+Centre+-+OpenData+-+v1.0+-+20210202-18h25.csv\n",
      "Resolving www.dropbox.com (www.dropbox.com)... 162.125.65.18, 2620:100:6021:18::a27d:4112\n",
      "Connecting to www.dropbox.com (www.dropbox.com)|162.125.65.18|:443... connected.\n",
      "ERROR: cannot verify www.dropbox.com's certificate, issued by ‘emailAddress=support@fortinet.com,CN=FG900D3916800046,OU=Certificate Authority,O=Fortinet,L=Sunnyvale,ST=California,C=US’:\n",
      "  Self-signed certificate encountered.\n",
      "To connect to www.dropbox.com insecurely, use `--no-check-certificate'.\n"
     ]
    }
   ],
   "source": [
    "# lien du premier dataset et sauvegarde du fichier\n",
    "!pwd\n",
    "!wget -N \"https://www.dropbox.com/sh/zgxpx85i6dvfuk9/AAAXEh50WXOu3KtvwOKTy0OIa/Donn%C3%A9es%20Chimay?dl=0&preview=DB+-+Chimay+Centre+-+OpenData+-+v1.0+-+20210202-18h25.csv\""
   ]
  },
  {
   "cell_type": "code",
   "execution_count": 3,
   "metadata": {},
   "outputs": [],
   "source": [
    "# import du premier dataset\n",
    "df = pd.read_csv(\"Données Chimay?dl=0&preview=DB+-+Chimay+Centre+-+OpenData+-+v1.0+-+20210202-18h25.csv\", encoding= 'unicode_escape')"
   ]
  },
  {
   "cell_type": "code",
   "execution_count": 4,
   "metadata": {},
   "outputs": [],
   "source": [
    "# import le deuxieme dataset\n",
    "df2 = pd.read_csv(\"commerces/commerces.csv\", sep=',')"
   ]
  },
  {
   "cell_type": "code",
   "execution_count": 5,
   "metadata": {},
   "outputs": [],
   "source": [
    "# set des display options\n",
    "pd.options.display.max_columns = 20\n",
    "pd.options.display.max_rows = None"
   ]
  },
  {
   "cell_type": "code",
   "execution_count": 6,
   "metadata": {},
   "outputs": [
    {
     "output_type": "execute_result",
     "data": {
      "text/plain": [
       "     PK\u0003\u0004\u0014                        post_title                        post_slug  \\\n",
       "188   3742                    Place LÃ©opold                    place-leopold   \n",
       "124   3523                      Saveurs Thai                     saveurs-thai   \n",
       "54    3368               Friterie Des Fagnes              friterie-des-fagnes   \n",
       "21    3285                          Bothanet                         bothanet   \n",
       "166   3718  CollÃ©giale Saint-Pierre et Paul  collegiale-saint-pierre-et-paul   \n",
       "\n",
       "                                    directory_category  \\\n",
       "188             moto-bienvenue;parkings;velo-bienvenue   \n",
       "124                                           traiteur   \n",
       "54                 moto-welcomed;restaurant-cafe-snack   \n",
       "21                                            services   \n",
       "166  attraction;contes-et-legendes;lieux-de-culte;t...   \n",
       "\n",
       "                                          post_content  \\\n",
       "188  La Place du jeu de balle est l'appellation cou...   \n",
       "124                               Description Ã  venir   \n",
       "54                                Description Ã  venir   \n",
       "21   <img class=\"alignnone size-full wp-image-3609\"...   \n",
       "166  ÃrigÃ©e sur la Grand-Place de Chimay, au temp...   \n",
       "\n",
       "    location_address__street  location_address__zip location_address__city  \\\n",
       "188           Place LÃ©opold                 6460.0                 Chimay   \n",
       "124          Rue au filet 16                 6460.0                 Chimay   \n",
       "54            Place lÃ©opold                 6460.0                 Chimay   \n",
       "21        Rue du Pavillon 12                 6460.0                 CHIMAY   \n",
       "166    Rue de la collÃ©giale                 6460.0                 Chimay   \n",
       "\n",
       "                   location_address__address  location_address__lat  \\\n",
       "188            N99 16, 6460 Chimay, Belgique              50.047302   \n",
       "124             Rue au filet 16, 6460 Chimay              50.048894   \n",
       "54              Place lÃ©opold , 6460 Chimay              50.047302   \n",
       "21           Rue du Pavillon 12, 6460 CHIMAY              50.048309   \n",
       "166  Rue Fromenteau 1, 6460 Chimay, Belgique              50.049333   \n",
       "\n",
       "     location_address__lng directory_tag       field_email   field_phone  \\\n",
       "188               4.317328           NaN               NaN           NaN   \n",
       "124               4.315832           NaN               NaN   0477/467671   \n",
       "54                4.317328           NaN               NaN           NaN   \n",
       "21                4.318833           NaN  info@bothanet.be  060/51 29 02   \n",
       "166               4.315518           NaN               NaN           NaN   \n",
       "\n",
       "              field_social_accounts__facebook field_website  \\\n",
       "188                                       NaN           NaN   \n",
       "124  https://www.facebook.com/Lessaveursthai/           NaN   \n",
       "54                                        NaN           NaN   \n",
       "21                                        NaN           NaN   \n",
       "166                                       NaN           NaN   \n",
       "\n",
       "                                      directory_photos  \n",
       "188                                                NaN  \n",
       "124  httpchimaycommerce.wpengine.comwp-contentuploa...  \n",
       "54   httpchimaycommerce.wpengine.comwp-contentuploa...  \n",
       "21                                        bothanet.jpg  \n",
       "166                                                NaN  "
      ],
      "text/html": "<div>\n<style scoped>\n    .dataframe tbody tr th:only-of-type {\n        vertical-align: middle;\n    }\n\n    .dataframe tbody tr th {\n        vertical-align: top;\n    }\n\n    .dataframe thead th {\n        text-align: right;\n    }\n</style>\n<table border=\"1\" class=\"dataframe\">\n  <thead>\n    <tr style=\"text-align: right;\">\n      <th></th>\n      <th>PK\u0003\u0004\u0014</th>\n      <th>post_title</th>\n      <th>post_slug</th>\n      <th>directory_category</th>\n      <th>post_content</th>\n      <th>location_address__street</th>\n      <th>location_address__zip</th>\n      <th>location_address__city</th>\n      <th>location_address__address</th>\n      <th>location_address__lat</th>\n      <th>location_address__lng</th>\n      <th>directory_tag</th>\n      <th>field_email</th>\n      <th>field_phone</th>\n      <th>field_social_accounts__facebook</th>\n      <th>field_website</th>\n      <th>directory_photos</th>\n    </tr>\n  </thead>\n  <tbody>\n    <tr>\n      <th>188</th>\n      <td>3742</td>\n      <td>Place LÃ©opold</td>\n      <td>place-leopold</td>\n      <td>moto-bienvenue;parkings;velo-bienvenue</td>\n      <td>La Place du jeu de balle est l'appellation cou...</td>\n      <td>Place LÃ©opold</td>\n      <td>6460.0</td>\n      <td>Chimay</td>\n      <td>N99 16, 6460 Chimay, Belgique</td>\n      <td>50.047302</td>\n      <td>4.317328</td>\n      <td>NaN</td>\n      <td>NaN</td>\n      <td>NaN</td>\n      <td>NaN</td>\n      <td>NaN</td>\n      <td>NaN</td>\n    </tr>\n    <tr>\n      <th>124</th>\n      <td>3523</td>\n      <td>Saveurs Thai</td>\n      <td>saveurs-thai</td>\n      <td>traiteur</td>\n      <td>Description Ã  venir</td>\n      <td>Rue au filet 16</td>\n      <td>6460.0</td>\n      <td>Chimay</td>\n      <td>Rue au filet 16, 6460 Chimay</td>\n      <td>50.048894</td>\n      <td>4.315832</td>\n      <td>NaN</td>\n      <td>NaN</td>\n      <td>0477/467671</td>\n      <td>https://www.facebook.com/Lessaveursthai/</td>\n      <td>NaN</td>\n      <td>httpchimaycommerce.wpengine.comwp-contentuploa...</td>\n    </tr>\n    <tr>\n      <th>54</th>\n      <td>3368</td>\n      <td>Friterie Des Fagnes</td>\n      <td>friterie-des-fagnes</td>\n      <td>moto-welcomed;restaurant-cafe-snack</td>\n      <td>Description Ã  venir</td>\n      <td>Place lÃ©opold</td>\n      <td>6460.0</td>\n      <td>Chimay</td>\n      <td>Place lÃ©opold , 6460 Chimay</td>\n      <td>50.047302</td>\n      <td>4.317328</td>\n      <td>NaN</td>\n      <td>NaN</td>\n      <td>NaN</td>\n      <td>NaN</td>\n      <td>NaN</td>\n      <td>httpchimaycommerce.wpengine.comwp-contentuploa...</td>\n    </tr>\n    <tr>\n      <th>21</th>\n      <td>3285</td>\n      <td>Bothanet</td>\n      <td>bothanet</td>\n      <td>services</td>\n      <td>&lt;img class=\"alignnone size-full wp-image-3609\"...</td>\n      <td>Rue du Pavillon 12</td>\n      <td>6460.0</td>\n      <td>CHIMAY</td>\n      <td>Rue du Pavillon 12, 6460 CHIMAY</td>\n      <td>50.048309</td>\n      <td>4.318833</td>\n      <td>NaN</td>\n      <td>info@bothanet.be</td>\n      <td>060/51 29 02</td>\n      <td>NaN</td>\n      <td>NaN</td>\n      <td>bothanet.jpg</td>\n    </tr>\n    <tr>\n      <th>166</th>\n      <td>3718</td>\n      <td>CollÃ©giale Saint-Pierre et Paul</td>\n      <td>collegiale-saint-pierre-et-paul</td>\n      <td>attraction;contes-et-legendes;lieux-de-culte;t...</td>\n      <td>ÃrigÃ©e sur la Grand-Place de Chimay, au temp...</td>\n      <td>Rue de la collÃ©giale</td>\n      <td>6460.0</td>\n      <td>Chimay</td>\n      <td>Rue Fromenteau 1, 6460 Chimay, Belgique</td>\n      <td>50.049333</td>\n      <td>4.315518</td>\n      <td>NaN</td>\n      <td>NaN</td>\n      <td>NaN</td>\n      <td>NaN</td>\n      <td>NaN</td>\n      <td>NaN</td>\n    </tr>\n  </tbody>\n</table>\n</div>"
     },
     "metadata": {},
     "execution_count": 6
    }
   ],
   "source": [
    "# affichage du premier dataset\n",
    "df.sample(5)"
   ]
  },
  {
   "cell_type": "code",
   "execution_count": 7,
   "metadata": {},
   "outputs": [
    {
     "output_type": "execute_result",
     "data": {
      "text/plain": [
       "(199, 17)"
      ]
     },
     "metadata": {},
     "execution_count": 7
    }
   ],
   "source": [
    "# composition \n",
    "df.shape"
   ]
  },
  {
   "cell_type": "code",
   "execution_count": 8,
   "metadata": {},
   "outputs": [
    {
     "output_type": "execute_result",
     "data": {
      "text/plain": [
       "                                    directory_category  \\\n",
       "224  information-touristique;souvenirs;toilettes-pu...   \n",
       "212                              restaurant-cafe-snack   \n",
       "108                                        hebergement   \n",
       "94                                         hebergement   \n",
       "15                                            commerce   \n",
       "221                            patrimoine;point-de-vue   \n",
       "45                      bancontact;banque-et-assurance   \n",
       "104                                         esthetique   \n",
       "110                                        hebergement   \n",
       "227                                            banques   \n",
       "\n",
       "     entity_featured__value  \\\n",
       "224                     NaN   \n",
       "212                     NaN   \n",
       "108                     NaN   \n",
       "94                      NaN   \n",
       "15                      NaN   \n",
       "221                     NaN   \n",
       "45                      NaN   \n",
       "104                     NaN   \n",
       "110                     NaN   \n",
       "227                     NaN   \n",
       "\n",
       "                                          post_content  \\\n",
       "224                                                NaN   \n",
       "212                                Description à venir   \n",
       "108                                Description à venir   \n",
       "94                                 Description à venir   \n",
       "15                                 Description à venir   \n",
       "221  Patrimoine Exceptionnel classé par la Région W...   \n",
       "45                                 Description à venir   \n",
       "104                                Description à venir   \n",
       "110                                Description à venir   \n",
       "227                                                NaN   \n",
       "\n",
       "    location_address__street  location_address__street2  \\\n",
       "224        Rue de Noailles 6                        NaN   \n",
       "212      rue des déportés 11                        NaN   \n",
       "108            Les Fermes 70                        NaN   \n",
       "94         Rue du Château 11                        NaN   \n",
       "15           Grand Place, 33                        NaN   \n",
       "221               franc bois                        NaN   \n",
       "45        Rue de Virelles, 3                        NaN   \n",
       "104     Rue des Pommiers, 22                        NaN   \n",
       "110     Rue Albert Dumont 59                        NaN   \n",
       "227           grand place 29                        NaN   \n",
       "\n",
       "    location_address__city location_address__country  \\\n",
       "224                 Chimay                        BE   \n",
       "212                 Chimay                        BE   \n",
       "108              BAILIEVRE                        BE   \n",
       "94                  CHIMAY                        BE   \n",
       "15                  CHIMAY                        BE   \n",
       "221                Lompret                        BE   \n",
       "45                  CHIMAY                        BE   \n",
       "104                 CHIMAY                        BE   \n",
       "110                LOMPRET                        BE   \n",
       "227                    NaN                       NaN   \n",
       "\n",
       "                         location_address__address  location_address__lat  \\\n",
       "224       Rue de Noailles 6, 6460 Chimay, Belgique              50.049444   \n",
       "212               rue des déportés 11, 6460 Chimay              50.048249   \n",
       "108                  Les Fermes 70, 6460 BAILIEVRE              50.072106   \n",
       "94                  Rue du Château 11, 6460 CHIMAY              50.049005   \n",
       "15                    Grand Place, 33, 6460 CHIMAY              50.048967   \n",
       "221  Courtil au Martias 23, 6463 Lompret, Belgique              50.063816   \n",
       "45                 Rue de Virelles, 3, 6460 CHIMAY              50.049416   \n",
       "104              Rue des Pommiers, 22, 6460 CHIMAY              50.045687   \n",
       "110             Rue Albert Dumont 59, 6463 LOMPRET              50.088211   \n",
       "227                                            NaN               0.000000   \n",
       "\n",
       "    location_address__term_id  ...  field_opening_hours    field_phone  \\\n",
       "224                    chimay  ...                  NaN      060211846   \n",
       "212                    chimay  ...                  NaN     060/213299   \n",
       "108                 bailievre  ...                  NaN   060/21 21 44   \n",
       "94                     chimay  ...                  NaN  0478/46.36.25   \n",
       "15                     chimay  ...                  NaN   060/21 26 66   \n",
       "221                   lompret  ...                  NaN            NaN   \n",
       "45                     chimay  ...                  NaN   060/21 24 88   \n",
       "104                    chimay  ...                  NaN   060/21 53 73   \n",
       "110                   lompret  ...                  NaN  0478/93 21 03   \n",
       "227                    chimay  ...                  NaN     060/210230   \n",
       "\n",
       "    field_price_range                    field_social_accounts__facebook  \\\n",
       "224             0|100                                                NaN   \n",
       "212               NaN           https://www.facebook.com/WilFritesChimay   \n",
       "108               NaN                                                NaN   \n",
       "94              0|100              https://www.facebook.com/Gite.Chimay/   \n",
       "15                NaN  https://www.facebook.com/Au-parfum-des-sens-15...   \n",
       "221             0|100                                                NaN   \n",
       "45              0|100                                                NaN   \n",
       "104               NaN      https://www.facebook.com/institutCaroleChimay   \n",
       "110               NaN                                                NaN   \n",
       "227             0|100                                                NaN   \n",
       "\n",
       "    field_social_accounts__instagram  field_social_accounts__linkedin  \\\n",
       "224                              NaN                              NaN   \n",
       "212                              NaN                              NaN   \n",
       "108                              NaN                              NaN   \n",
       "94                               NaN                              NaN   \n",
       "15                               NaN                              NaN   \n",
       "221                              NaN                              NaN   \n",
       "45                               NaN                              NaN   \n",
       "104                              NaN                              NaN   \n",
       "110                              NaN                              NaN   \n",
       "227                              NaN                              NaN   \n",
       "\n",
       "    field_social_accounts__twitter field_social_accounts__youtube  \\\n",
       "224                            NaN                            NaN   \n",
       "212                            NaN                            NaN   \n",
       "108                            NaN                            NaN   \n",
       "94                             NaN                            NaN   \n",
       "15                             NaN                            NaN   \n",
       "221                            NaN                            NaN   \n",
       "45                             NaN                            NaN   \n",
       "104                            NaN                            NaN   \n",
       "110                            NaN                            NaN   \n",
       "227                            NaN                            NaN   \n",
       "\n",
       "     field_videos                       field_website  \n",
       "224           NaN              https://visitchimay.be  \n",
       "212           NaN                                 NaN  \n",
       "108           NaN                                 NaN  \n",
       "94            NaN  https://www.gitedelaprincipaute.be  \n",
       "15            NaN        http://www.parfumdessens.be/  \n",
       "221           NaN                                 NaN  \n",
       "45            NaN                                 NaN  \n",
       "104           NaN       http://www.institutcarole.be/  \n",
       "110           NaN                                 NaN  \n",
       "227           NaN              https://www.belfius.be  \n",
       "\n",
       "[10 rows x 29 columns]"
      ],
      "text/html": "<div>\n<style scoped>\n    .dataframe tbody tr th:only-of-type {\n        vertical-align: middle;\n    }\n\n    .dataframe tbody tr th {\n        vertical-align: top;\n    }\n\n    .dataframe thead th {\n        text-align: right;\n    }\n</style>\n<table border=\"1\" class=\"dataframe\">\n  <thead>\n    <tr style=\"text-align: right;\">\n      <th></th>\n      <th>directory_category</th>\n      <th>entity_featured__value</th>\n      <th>post_content</th>\n      <th>location_address__street</th>\n      <th>location_address__street2</th>\n      <th>location_address__city</th>\n      <th>location_address__country</th>\n      <th>location_address__address</th>\n      <th>location_address__lat</th>\n      <th>location_address__term_id</th>\n      <th>...</th>\n      <th>field_opening_hours</th>\n      <th>field_phone</th>\n      <th>field_price_range</th>\n      <th>field_social_accounts__facebook</th>\n      <th>field_social_accounts__instagram</th>\n      <th>field_social_accounts__linkedin</th>\n      <th>field_social_accounts__twitter</th>\n      <th>field_social_accounts__youtube</th>\n      <th>field_videos</th>\n      <th>field_website</th>\n    </tr>\n  </thead>\n  <tbody>\n    <tr>\n      <th>224</th>\n      <td>information-touristique;souvenirs;toilettes-pu...</td>\n      <td>NaN</td>\n      <td>NaN</td>\n      <td>Rue de Noailles 6</td>\n      <td>NaN</td>\n      <td>Chimay</td>\n      <td>BE</td>\n      <td>Rue de Noailles 6, 6460 Chimay, Belgique</td>\n      <td>50.049444</td>\n      <td>chimay</td>\n      <td>...</td>\n      <td>NaN</td>\n      <td>060211846</td>\n      <td>0|100</td>\n      <td>NaN</td>\n      <td>NaN</td>\n      <td>NaN</td>\n      <td>NaN</td>\n      <td>NaN</td>\n      <td>NaN</td>\n      <td>https://visitchimay.be</td>\n    </tr>\n    <tr>\n      <th>212</th>\n      <td>restaurant-cafe-snack</td>\n      <td>NaN</td>\n      <td>Description à venir</td>\n      <td>rue des déportés 11</td>\n      <td>NaN</td>\n      <td>Chimay</td>\n      <td>BE</td>\n      <td>rue des déportés 11, 6460 Chimay</td>\n      <td>50.048249</td>\n      <td>chimay</td>\n      <td>...</td>\n      <td>NaN</td>\n      <td>060/213299</td>\n      <td>NaN</td>\n      <td>https://www.facebook.com/WilFritesChimay</td>\n      <td>NaN</td>\n      <td>NaN</td>\n      <td>NaN</td>\n      <td>NaN</td>\n      <td>NaN</td>\n      <td>NaN</td>\n    </tr>\n    <tr>\n      <th>108</th>\n      <td>hebergement</td>\n      <td>NaN</td>\n      <td>Description à venir</td>\n      <td>Les Fermes 70</td>\n      <td>NaN</td>\n      <td>BAILIEVRE</td>\n      <td>BE</td>\n      <td>Les Fermes 70, 6460 BAILIEVRE</td>\n      <td>50.072106</td>\n      <td>bailievre</td>\n      <td>...</td>\n      <td>NaN</td>\n      <td>060/21 21 44</td>\n      <td>NaN</td>\n      <td>NaN</td>\n      <td>NaN</td>\n      <td>NaN</td>\n      <td>NaN</td>\n      <td>NaN</td>\n      <td>NaN</td>\n      <td>NaN</td>\n    </tr>\n    <tr>\n      <th>94</th>\n      <td>hebergement</td>\n      <td>NaN</td>\n      <td>Description à venir</td>\n      <td>Rue du Château 11</td>\n      <td>NaN</td>\n      <td>CHIMAY</td>\n      <td>BE</td>\n      <td>Rue du Château 11, 6460 CHIMAY</td>\n      <td>50.049005</td>\n      <td>chimay</td>\n      <td>...</td>\n      <td>NaN</td>\n      <td>0478/46.36.25</td>\n      <td>0|100</td>\n      <td>https://www.facebook.com/Gite.Chimay/</td>\n      <td>NaN</td>\n      <td>NaN</td>\n      <td>NaN</td>\n      <td>NaN</td>\n      <td>NaN</td>\n      <td>https://www.gitedelaprincipaute.be</td>\n    </tr>\n    <tr>\n      <th>15</th>\n      <td>commerce</td>\n      <td>NaN</td>\n      <td>Description à venir</td>\n      <td>Grand Place, 33</td>\n      <td>NaN</td>\n      <td>CHIMAY</td>\n      <td>BE</td>\n      <td>Grand Place, 33, 6460 CHIMAY</td>\n      <td>50.048967</td>\n      <td>chimay</td>\n      <td>...</td>\n      <td>NaN</td>\n      <td>060/21 26 66</td>\n      <td>NaN</td>\n      <td>https://www.facebook.com/Au-parfum-des-sens-15...</td>\n      <td>NaN</td>\n      <td>NaN</td>\n      <td>NaN</td>\n      <td>NaN</td>\n      <td>NaN</td>\n      <td>http://www.parfumdessens.be/</td>\n    </tr>\n    <tr>\n      <th>221</th>\n      <td>patrimoine;point-de-vue</td>\n      <td>NaN</td>\n      <td>Patrimoine Exceptionnel classé par la Région W...</td>\n      <td>franc bois</td>\n      <td>NaN</td>\n      <td>Lompret</td>\n      <td>BE</td>\n      <td>Courtil au Martias 23, 6463 Lompret, Belgique</td>\n      <td>50.063816</td>\n      <td>lompret</td>\n      <td>...</td>\n      <td>NaN</td>\n      <td>NaN</td>\n      <td>0|100</td>\n      <td>NaN</td>\n      <td>NaN</td>\n      <td>NaN</td>\n      <td>NaN</td>\n      <td>NaN</td>\n      <td>NaN</td>\n      <td>NaN</td>\n    </tr>\n    <tr>\n      <th>45</th>\n      <td>bancontact;banque-et-assurance</td>\n      <td>NaN</td>\n      <td>Description à venir</td>\n      <td>Rue de Virelles, 3</td>\n      <td>NaN</td>\n      <td>CHIMAY</td>\n      <td>BE</td>\n      <td>Rue de Virelles, 3, 6460 CHIMAY</td>\n      <td>50.049416</td>\n      <td>chimay</td>\n      <td>...</td>\n      <td>NaN</td>\n      <td>060/21 24 88</td>\n      <td>0|100</td>\n      <td>NaN</td>\n      <td>NaN</td>\n      <td>NaN</td>\n      <td>NaN</td>\n      <td>NaN</td>\n      <td>NaN</td>\n      <td>NaN</td>\n    </tr>\n    <tr>\n      <th>104</th>\n      <td>esthetique</td>\n      <td>NaN</td>\n      <td>Description à venir</td>\n      <td>Rue des Pommiers, 22</td>\n      <td>NaN</td>\n      <td>CHIMAY</td>\n      <td>BE</td>\n      <td>Rue des Pommiers, 22, 6460 CHIMAY</td>\n      <td>50.045687</td>\n      <td>chimay</td>\n      <td>...</td>\n      <td>NaN</td>\n      <td>060/21 53 73</td>\n      <td>NaN</td>\n      <td>https://www.facebook.com/institutCaroleChimay</td>\n      <td>NaN</td>\n      <td>NaN</td>\n      <td>NaN</td>\n      <td>NaN</td>\n      <td>NaN</td>\n      <td>http://www.institutcarole.be/</td>\n    </tr>\n    <tr>\n      <th>110</th>\n      <td>hebergement</td>\n      <td>NaN</td>\n      <td>Description à venir</td>\n      <td>Rue Albert Dumont 59</td>\n      <td>NaN</td>\n      <td>LOMPRET</td>\n      <td>BE</td>\n      <td>Rue Albert Dumont 59, 6463 LOMPRET</td>\n      <td>50.088211</td>\n      <td>lompret</td>\n      <td>...</td>\n      <td>NaN</td>\n      <td>0478/93 21 03</td>\n      <td>NaN</td>\n      <td>NaN</td>\n      <td>NaN</td>\n      <td>NaN</td>\n      <td>NaN</td>\n      <td>NaN</td>\n      <td>NaN</td>\n      <td>NaN</td>\n    </tr>\n    <tr>\n      <th>227</th>\n      <td>banques</td>\n      <td>NaN</td>\n      <td>NaN</td>\n      <td>grand place 29</td>\n      <td>NaN</td>\n      <td>NaN</td>\n      <td>NaN</td>\n      <td>NaN</td>\n      <td>0.000000</td>\n      <td>chimay</td>\n      <td>...</td>\n      <td>NaN</td>\n      <td>060/210230</td>\n      <td>0|100</td>\n      <td>NaN</td>\n      <td>NaN</td>\n      <td>NaN</td>\n      <td>NaN</td>\n      <td>NaN</td>\n      <td>NaN</td>\n      <td>https://www.belfius.be</td>\n    </tr>\n  </tbody>\n</table>\n<p>10 rows × 29 columns</p>\n</div>"
     },
     "metadata": {},
     "execution_count": 8
    }
   ],
   "source": [
    "# affichage du deuxieme dataset\n",
    "df2.sample(10)"
   ]
  },
  {
   "cell_type": "code",
   "execution_count": 9,
   "metadata": {},
   "outputs": [
    {
     "output_type": "stream",
     "name": "stdout",
     "text": [
      "<class 'pandas.core.frame.DataFrame'>\nRangeIndex: 269 entries, 0 to 268\nData columns (total 29 columns):\n #   Column                            Non-Null Count  Dtype  \n---  ------                            --------------  -----  \n 0   directory_category                266 non-null    object \n 1   entity_featured__value            0 non-null      float64\n 2   post_content                      222 non-null    object \n 3   location_address__street          268 non-null    object \n 4   location_address__street2         0 non-null      float64\n 5   location_address__city            266 non-null    object \n 6   location_address__country         266 non-null    object \n 7   location_address__address         266 non-null    object \n 8   location_address__lat             269 non-null    float64\n 9   location_address__term_id         267 non-null    object \n 10  location_address__lng             269 non-null    float64\n 11  location_address__zip             268 non-null    float64\n 12  location_address__province        266 non-null    object \n 13  location_address__timezone        266 non-null    object \n 14  directory_photos                  179 non-null    object \n 15  voting_rating                     0 non-null      float64\n 16  directory_tag                     9 non-null      object \n 17  post_title                        269 non-null    object \n 18  voting_updown                     0 non-null      float64\n 19  field_opening_hours               2 non-null      object \n 20  field_phone                       217 non-null    object \n 21  field_price_range                 98 non-null     object \n 22  field_social_accounts__facebook   120 non-null    object \n 23  field_social_accounts__instagram  0 non-null      float64\n 24  field_social_accounts__linkedin   0 non-null      float64\n 25  field_social_accounts__twitter    0 non-null      float64\n 26  field_social_accounts__youtube    0 non-null      float64\n 27  field_videos                      0 non-null      float64\n 28  field_website                     50 non-null     object \ndtypes: float64(12), object(17)\nmemory usage: 61.1+ KB\n"
     ]
    }
   ],
   "source": [
    "# print options\n",
    "df2.info()"
   ]
  },
  {
   "cell_type": "code",
   "execution_count": 10,
   "metadata": {},
   "outputs": [
    {
     "output_type": "execute_result",
     "data": {
      "text/plain": [
       "(269, 29)"
      ]
     },
     "metadata": {},
     "execution_count": 10
    }
   ],
   "source": [
    "# shape\n",
    "df2.shape"
   ]
  },
  {
   "cell_type": "code",
   "execution_count": 11,
   "metadata": {},
   "outputs": [
    {
     "output_type": "execute_result",
     "data": {
      "text/plain": [
       "directory_category                    3\n",
       "entity_featured__value              269\n",
       "post_content                         47\n",
       "location_address__street              1\n",
       "location_address__street2           269\n",
       "location_address__city                3\n",
       "location_address__country             3\n",
       "location_address__address             3\n",
       "location_address__lat                 0\n",
       "location_address__term_id             2\n",
       "location_address__lng                 0\n",
       "location_address__zip                 1\n",
       "location_address__province            3\n",
       "location_address__timezone            3\n",
       "directory_photos                     90\n",
       "voting_rating                       269\n",
       "directory_tag                       260\n",
       "post_title                            0\n",
       "voting_updown                       269\n",
       "field_opening_hours                 267\n",
       "field_phone                          52\n",
       "field_price_range                   171\n",
       "field_social_accounts__facebook     149\n",
       "field_social_accounts__instagram    269\n",
       "field_social_accounts__linkedin     269\n",
       "field_social_accounts__twitter      269\n",
       "field_social_accounts__youtube      269\n",
       "field_videos                        269\n",
       "field_website                       219\n",
       "dtype: int64"
      ]
     },
     "metadata": {},
     "execution_count": 11
    }
   ],
   "source": [
    "# regarder les donnees manquantes\n",
    "df2.isna().sum()"
   ]
  },
  {
   "cell_type": "code",
   "execution_count": 12,
   "metadata": {},
   "outputs": [],
   "source": [
    "# mise en liste des colonnes inutils a supprimer\n",
    "list = [\"field_social_accounts__instagram\", \"field_social_accounts__linkedin\", \"field_social_accounts__twitter\", \"field_social_accounts__youtube\", \"field_videos\", \"voting_updown\", \"voting_rating\", \"directory_tag\", \"location_address__street2\", \"entity_featured__value\", \"field_opening_hours\", \"location_address__country\", \"location_address__province\", \"location_address__timezone\", \"field_price_range\", \"directory_photos\"]"
   ]
  },
  {
   "cell_type": "code",
   "execution_count": 13,
   "metadata": {},
   "outputs": [],
   "source": [
    "# suppression\n",
    "df2.drop(list, axis=1, inplace=True)"
   ]
  },
  {
   "cell_type": "code",
   "execution_count": 14,
   "metadata": {},
   "outputs": [
    {
     "output_type": "execute_result",
     "data": {
      "text/plain": [
       "(269, 13)"
      ]
     },
     "metadata": {},
     "execution_count": 14
    }
   ],
   "source": [
    "# nouveau shape\n",
    "df2.shape"
   ]
  },
  {
   "cell_type": "code",
   "execution_count": 15,
   "metadata": {},
   "outputs": [],
   "source": [
    "# correction des valeurs manquantes\n",
    "df2['post_content'].fillna(\"Description à venir\", inplace=True)\n",
    "df2['field_social_accounts__facebook'].fillna(\"A venir\", inplace=True)\n",
    "df2['field_website'].fillna(\"A venir\", inplace=True)\n",
    "df2['directory_category'].fillna(\"Autre\", inplace=True)\n",
    "df2['location_address__street'].fillna(\"Neant\", inplace=True)\n",
    "df2['location_address__city'].fillna(\"Chimay\", inplace=True)\n",
    "df2['location_address__address'].fillna(df2['location_address__city'], inplace=True)\n",
    "df2['location_address__term_id'].fillna(\"chimay\", inplace=True)\n",
    "df2['location_address__zip'].fillna(6460.0, inplace=True)\n",
    "df2['field_phone'].fillna(0, inplace=True)\n"
   ]
  },
  {
   "cell_type": "code",
   "execution_count": 16,
   "metadata": {},
   "outputs": [],
   "source": [
    "# reglage de la police des valeurs\n",
    "df2[\"location_address__city\"] = df2[\"location_address__city\"].str.lower()\n",
    "df2[\"location_address__term_id\"] = df2[\"location_address__term_id\"].str.lower()\n",
    "df2[\"directory_category\"] = df2[\"directory_category\"].str.lower()"
   ]
  },
  {
   "cell_type": "code",
   "execution_count": 17,
   "metadata": {},
   "outputs": [],
   "source": [
    "# re-groupement des categories minoritaires sous \"autre\"\n",
    "\n",
    "val = ['patrimoine-historique;portes-historiques', 'divers;wifi', 'patrimoine-historique', 'animation-musicale, artisan-createur', 'animation-musicale;attraction;contes-et-legendes;fantomes;tournages;monuments-et-statues;moto-bienvenue;parkings;patrimoine-historique;point-de-vue;shooting-place;toilettes-publiques;velo-bienvenue', 'patrimoine-historique;portes-historiques;vestiges-medievaux', 'monuments-et-statues;patrimoine-historique', 'animation-musicale', 'artisan-createur', 'moto-bienvenue;parkings;velo-bienvenue', 'information-touristique;souvenirs;toilettes-publiques;velo-bienvenue', 'attraction;contes-et-legendes;devises-et-inscriptions;fantomes;tournages;patrimoine-historique;puzzle;toilettes-publiques', 'art-artisanat;culture;meeting-space;parkings;wifi', 'patrimoine-naturel;point-de-vue;portes-historiques;vestiges-medievaux;pic-nic', 'contes-et-legendes;patrimoine-historique;point-de-vue;portes-historiques;vestiges-medievaux', 'devises-et-inscriptions;patrimoine-historique;point-de-vue;portes-historiques;shooting-place;vestiges-medievaux', 'moto-bienvenue;parkings', 'moto-bienvenue;parkings;patrimoine-naturel;velo-bienvenue;pic-nic', 'camping;zone-motorhome', 'contes-et-legendes;patrimoine-historique;point-de-vue;portes-historiques;vestiges-medievaux', 'patrimoine;point-de-vue', 'transports', 'animation-musicale;tournages;patrimoine-historique', 'commerce;construction-renovation', 'contes-et-legendes;parkings;patrimoine-historique;shooting-place;velo-bienvenue', 'moto-bienvenue;parkings;transports', 'attraction;contes-et-legendes;lieux-de-culte;tournages;patrimoine-historique', 'animation-musicale;attraction;contes-et-legendes;culture;devises-et-inscriptions;fantomes;tournages;loisirs;patrimoine-historique;point-de-vue;vestiges-medievaux', 'commerce-alimentaire;traiteur', 'librairie-papeterie', 'animation-musicale;lieux-de-culte;patrimoine', 'depart-de-balade;fantomes;loisirs;puzzle', 'telephonie', 'contes-et-legendes;devises-et-inscriptions;meeting-space;monuments-et-statues;patrimoine-historique;shooting-place;velo-bienvenue', 'contes-et-legendes;patrimoine-historique;vestiges-medievaux']"
   ]
  },
  {
   "cell_type": "code",
   "execution_count": 18,
   "metadata": {},
   "outputs": [],
   "source": [
    "# boucle for pour remplacer les categories regroupees plus haut\n",
    "for i in val:\n",
    "    df2[\"directory_category\"] = df2[\"directory_category\"].replace(i, 'autre')"
   ]
  },
  {
   "cell_type": "code",
   "execution_count": 19,
   "metadata": {},
   "outputs": [],
   "source": [
    "# regroupement en grande categorie\n",
    "a = [\"commerce\", \"commerce-alimentaire\", \"commerce-alimentaire\", \"commerce;velo-bienvenue\",\"supermarche\", \"agence-de-voyage\", \"coiffure\", \"construction-renovation\", \"services\",  \"carburants\", \"informatique\", \"hebergement\", \"immobilier\"]\n",
    "\n",
    "b = [\"autre\", \"description à venir\", \"optique\"]\n",
    "\n",
    "c = [\"restaurant-cafe-snack\", \"moto-welcomed;restaurant-cafe-snack\", \"traiteur\"]  \n",
    "\n",
    "\n",
    "d = [\"loisirs\", \"loisirs;sport\", \"esthetique\", \"jardins-et-fleurs\", \"auto-moto\"]    \n",
    "\n",
    "e = [\"soins-de-sante\", \"centres-medicaux\"] \n",
    "\n",
    "f = [\"lieux-de-culte;patrimoine-historique\",  \"tournages;patrimoine-historique\", \"tournages;patrimoine-historique;point-de-vue;vestiges-medievaux\", \"art-artisanat;artisan-createur\", \"depart-de-balade;patrimoine-naturel;point-de-vue;sport;transports;velo-bienvenue;pic-nic\",  \"depart-de-balade;hiking;patrimoine-naturel\" ]\n",
    "\n",
    "g = [\"bancontact;banque-et-assurance\", \"banque-et-assurance;banques\", \"banques\", \"banque-et-assurance\"]             "
   ]
  },
  {
   "cell_type": "code",
   "execution_count": 20,
   "metadata": {},
   "outputs": [],
   "source": [
    "# transformation des valeurs pour les autres categories\n",
    "for i in a:\n",
    "    df2[\"directory_category\"] = df2[\"directory_category\"].replace(i, 'Commerce et Service')\n",
    "for i in b:\n",
    "    df2[\"directory_category\"] = df2[\"directory_category\"].replace(i, 'Autre')\n",
    "for i in c:\n",
    "    df2[\"directory_category\"] = df2[\"directory_category\"].replace(i, 'Resto et Snack')\n",
    "for i in d:\n",
    "    df2[\"directory_category\"] = df2[\"directory_category\"].replace(i, 'Sports et Loisirs')\n",
    "for i in e:\n",
    "    df2[\"directory_category\"] = df2[\"directory_category\"].replace(i, 'Sante')\n",
    "for i in f:\n",
    "    df2[\"directory_category\"] = df2[\"directory_category\"].replace(i, 'Art et Lieux Historiques')\n",
    "for i in g:\n",
    "    df2[\"directory_category\"] = df2[\"directory_category\"].replace(i, 'Banque et Finance')"
   ]
  },
  {
   "cell_type": "code",
   "execution_count": 21,
   "metadata": {},
   "outputs": [
    {
     "output_type": "execute_result",
     "data": {
      "text/plain": [
       "Commerce et Service         102\n",
       "Resto et Snack               43\n",
       "Autre                        39\n",
       "Sports et Loisirs            33\n",
       "Banque et Finance            17\n",
       "Art et Lieux Historiques     13\n",
       "textile                      10\n",
       "Sante                         7\n",
       "animaux                       5\n",
       "Name: directory_category, dtype: int64"
      ]
     },
     "metadata": {},
     "execution_count": 21
    }
   ],
   "source": [
    "# check des nouvelles valeurs\n",
    "df2[\"directory_category\"].value_counts()"
   ]
  },
  {
   "cell_type": "code",
   "execution_count": 22,
   "metadata": {},
   "outputs": [],
   "source": [
    "#fill an empty value in location_address__street\n",
    "df2.iloc[195, 2] = \"chimay\""
   ]
  },
  {
   "cell_type": "code",
   "execution_count": 23,
   "metadata": {},
   "outputs": [
    {
     "output_type": "execute_result",
     "data": {
      "text/plain": [
       "      directory_category                                       post_content  \\\n",
       "69   Commerce et Service                                Description à venir   \n",
       "12                 Autre                                Description à venir   \n",
       "75   Commerce et Service                                Description à venir   \n",
       "163  Commerce et Service                                Description à venir   \n",
       "153  Commerce et Service                                Description à venir   \n",
       "175              animaux  <img class=\"alignnone size-medium wp-image-358...   \n",
       "45     Banque et Finance                                Description à venir   \n",
       "61   Commerce et Service                                Description à venir   \n",
       "98   Commerce et Service  Morphocoiffure dame, homme, enfant\\r\\n\\r\\nColo...   \n",
       "88     Sports et Loisirs                                Description à venir   \n",
       "\n",
       "    location_address__street location_address__city  \\\n",
       "69         Rue de Rocroi, 19                baileux   \n",
       "12       Avenue des Tilleuls                 chimay   \n",
       "75           Rue du Lac, 27                virelles   \n",
       "163            Place Léopold                 chimay   \n",
       "153           Pont du Welz 7                 chimay   \n",
       "175        Rue de la Gâte 19                baileux   \n",
       "45        Rue de Virelles, 3                 chimay   \n",
       "61    Rue de Charlemagne, 11                baileux   \n",
       "98              Rue Rogier 7                 chimay   \n",
       "88       Zoning industriel,7                baileux   \n",
       "\n",
       "                location_address__address  location_address__lat  \\\n",
       "69        Rue de Rocroi, 19, 6464 BAILEUX              50.029600   \n",
       "12       Avenue des Tilleuls, 6460 CHIMAY              50.045709   \n",
       "75         Rue du Lac, 27 , 6461 VIRELLES              50.065787   \n",
       "163            Place Léopold, 6460 Chimay              50.047302   \n",
       "153           Pont du Welz 7, 6460 CHIMAY              50.048621   \n",
       "175       Rue de la Gâte 19, 6464 BAILEUX              50.025500   \n",
       "45        Rue de Virelles, 3, 6460 CHIMAY              50.049416   \n",
       "61   Rue de Charlemagne, 11, 6464 BAILEUX              50.036029   \n",
       "98              Rue Rogier 7, 6460 CHIMAY              50.049339   \n",
       "88      Zoning industriel,7, 6465 BAILEUX              50.035664   \n",
       "\n",
       "    location_address__term_id  location_address__lng  location_address__zip  \\\n",
       "69                    baileux               4.373868                 6464.0   \n",
       "12                     chimay               4.306572                 6460.0   \n",
       "75                   virelles               4.335976                 6461.0   \n",
       "163                    chimay               4.317328                 6460.0   \n",
       "153                    chimay               4.315336                 6460.0   \n",
       "175                   baileux               4.370768                 6464.0   \n",
       "45                     chimay               4.317637                 6460.0   \n",
       "61                    baileux               4.381700                 6464.0   \n",
       "98                     chimay               4.316832                 6460.0   \n",
       "88                    baileux               4.379526                 6465.0   \n",
       "\n",
       "                       post_title    field_phone  \\\n",
       "69          Epicerie Baileusienne   060/21 46 70   \n",
       "12         Ateliers Coene-Marcoux   060/21 29 85   \n",
       "75              Fagnes Et Saveurs   060/21 24 49   \n",
       "163                    Night Shop              0   \n",
       "153                       Lolipop   060/45 59 33   \n",
       "175               Picart Siegried  0476/95 21 83   \n",
       "45                       Cbc Bank   060/21 24 88   \n",
       "61                  Cuisines Eggo   060/21 46 13   \n",
       "98                  Greg Coiffure   060/21 55 95   \n",
       "88   Garage Guérin Jean-Yves Sprl   060/21 04 45   \n",
       "\n",
       "                       field_social_accounts__facebook  \\\n",
       "69      https://www.facebook.com/lepiceriebaileusienne   \n",
       "12                                             A venir   \n",
       "75          https://www.facebook.com/FagnessaveursScrl   \n",
       "163                                            A venir   \n",
       "153             https://www.facebook.com/lolipopchimay   \n",
       "175  https://www.facebook.com/Toilettage-Picart-Sie...   \n",
       "45                                             A venir   \n",
       "61                                             A venir   \n",
       "98              https://www.facebook.com/gregcoiffure/   \n",
       "88                                             A venir   \n",
       "\n",
       "                                         field_website  \n",
       "69                                             A venir  \n",
       "12                                             A venir  \n",
       "75                                             A venir  \n",
       "163                                            A venir  \n",
       "153                                            A venir  \n",
       "175                                            A venir  \n",
       "45                                             A venir  \n",
       "61                                             A venir  \n",
       "98                                             A venir  \n",
       "88   https://www.dealer.volvotrucks.be/guerin/about...  "
      ],
      "text/html": "<div>\n<style scoped>\n    .dataframe tbody tr th:only-of-type {\n        vertical-align: middle;\n    }\n\n    .dataframe tbody tr th {\n        vertical-align: top;\n    }\n\n    .dataframe thead th {\n        text-align: right;\n    }\n</style>\n<table border=\"1\" class=\"dataframe\">\n  <thead>\n    <tr style=\"text-align: right;\">\n      <th></th>\n      <th>directory_category</th>\n      <th>post_content</th>\n      <th>location_address__street</th>\n      <th>location_address__city</th>\n      <th>location_address__address</th>\n      <th>location_address__lat</th>\n      <th>location_address__term_id</th>\n      <th>location_address__lng</th>\n      <th>location_address__zip</th>\n      <th>post_title</th>\n      <th>field_phone</th>\n      <th>field_social_accounts__facebook</th>\n      <th>field_website</th>\n    </tr>\n  </thead>\n  <tbody>\n    <tr>\n      <th>69</th>\n      <td>Commerce et Service</td>\n      <td>Description à venir</td>\n      <td>Rue de Rocroi, 19</td>\n      <td>baileux</td>\n      <td>Rue de Rocroi, 19, 6464 BAILEUX</td>\n      <td>50.029600</td>\n      <td>baileux</td>\n      <td>4.373868</td>\n      <td>6464.0</td>\n      <td>Epicerie Baileusienne</td>\n      <td>060/21 46 70</td>\n      <td>https://www.facebook.com/lepiceriebaileusienne</td>\n      <td>A venir</td>\n    </tr>\n    <tr>\n      <th>12</th>\n      <td>Autre</td>\n      <td>Description à venir</td>\n      <td>Avenue des Tilleuls</td>\n      <td>chimay</td>\n      <td>Avenue des Tilleuls, 6460 CHIMAY</td>\n      <td>50.045709</td>\n      <td>chimay</td>\n      <td>4.306572</td>\n      <td>6460.0</td>\n      <td>Ateliers Coene-Marcoux</td>\n      <td>060/21 29 85</td>\n      <td>A venir</td>\n      <td>A venir</td>\n    </tr>\n    <tr>\n      <th>75</th>\n      <td>Commerce et Service</td>\n      <td>Description à venir</td>\n      <td>Rue du Lac, 27</td>\n      <td>virelles</td>\n      <td>Rue du Lac, 27 , 6461 VIRELLES</td>\n      <td>50.065787</td>\n      <td>virelles</td>\n      <td>4.335976</td>\n      <td>6461.0</td>\n      <td>Fagnes Et Saveurs</td>\n      <td>060/21 24 49</td>\n      <td>https://www.facebook.com/FagnessaveursScrl</td>\n      <td>A venir</td>\n    </tr>\n    <tr>\n      <th>163</th>\n      <td>Commerce et Service</td>\n      <td>Description à venir</td>\n      <td>Place Léopold</td>\n      <td>chimay</td>\n      <td>Place Léopold, 6460 Chimay</td>\n      <td>50.047302</td>\n      <td>chimay</td>\n      <td>4.317328</td>\n      <td>6460.0</td>\n      <td>Night Shop</td>\n      <td>0</td>\n      <td>A venir</td>\n      <td>A venir</td>\n    </tr>\n    <tr>\n      <th>153</th>\n      <td>Commerce et Service</td>\n      <td>Description à venir</td>\n      <td>Pont du Welz 7</td>\n      <td>chimay</td>\n      <td>Pont du Welz 7, 6460 CHIMAY</td>\n      <td>50.048621</td>\n      <td>chimay</td>\n      <td>4.315336</td>\n      <td>6460.0</td>\n      <td>Lolipop</td>\n      <td>060/45 59 33</td>\n      <td>https://www.facebook.com/lolipopchimay</td>\n      <td>A venir</td>\n    </tr>\n    <tr>\n      <th>175</th>\n      <td>animaux</td>\n      <td>&lt;img class=\"alignnone size-medium wp-image-358...</td>\n      <td>Rue de la Gâte 19</td>\n      <td>baileux</td>\n      <td>Rue de la Gâte 19, 6464 BAILEUX</td>\n      <td>50.025500</td>\n      <td>baileux</td>\n      <td>4.370768</td>\n      <td>6464.0</td>\n      <td>Picart Siegried</td>\n      <td>0476/95 21 83</td>\n      <td>https://www.facebook.com/Toilettage-Picart-Sie...</td>\n      <td>A venir</td>\n    </tr>\n    <tr>\n      <th>45</th>\n      <td>Banque et Finance</td>\n      <td>Description à venir</td>\n      <td>Rue de Virelles, 3</td>\n      <td>chimay</td>\n      <td>Rue de Virelles, 3, 6460 CHIMAY</td>\n      <td>50.049416</td>\n      <td>chimay</td>\n      <td>4.317637</td>\n      <td>6460.0</td>\n      <td>Cbc Bank</td>\n      <td>060/21 24 88</td>\n      <td>A venir</td>\n      <td>A venir</td>\n    </tr>\n    <tr>\n      <th>61</th>\n      <td>Commerce et Service</td>\n      <td>Description à venir</td>\n      <td>Rue de Charlemagne, 11</td>\n      <td>baileux</td>\n      <td>Rue de Charlemagne, 11, 6464 BAILEUX</td>\n      <td>50.036029</td>\n      <td>baileux</td>\n      <td>4.381700</td>\n      <td>6464.0</td>\n      <td>Cuisines Eggo</td>\n      <td>060/21 46 13</td>\n      <td>A venir</td>\n      <td>A venir</td>\n    </tr>\n    <tr>\n      <th>98</th>\n      <td>Commerce et Service</td>\n      <td>Morphocoiffure dame, homme, enfant\\r\\n\\r\\nColo...</td>\n      <td>Rue Rogier 7</td>\n      <td>chimay</td>\n      <td>Rue Rogier 7, 6460 CHIMAY</td>\n      <td>50.049339</td>\n      <td>chimay</td>\n      <td>4.316832</td>\n      <td>6460.0</td>\n      <td>Greg Coiffure</td>\n      <td>060/21 55 95</td>\n      <td>https://www.facebook.com/gregcoiffure/</td>\n      <td>A venir</td>\n    </tr>\n    <tr>\n      <th>88</th>\n      <td>Sports et Loisirs</td>\n      <td>Description à venir</td>\n      <td>Zoning industriel,7</td>\n      <td>baileux</td>\n      <td>Zoning industriel,7, 6465 BAILEUX</td>\n      <td>50.035664</td>\n      <td>baileux</td>\n      <td>4.379526</td>\n      <td>6465.0</td>\n      <td>Garage Guérin Jean-Yves Sprl</td>\n      <td>060/21 04 45</td>\n      <td>A venir</td>\n      <td>https://www.dealer.volvotrucks.be/guerin/about...</td>\n    </tr>\n  </tbody>\n</table>\n</div>"
     },
     "metadata": {},
     "execution_count": 23
    }
   ],
   "source": [
    "df2.sample(10)"
   ]
  },
  {
   "cell_type": "code",
   "execution_count": 26,
   "metadata": {},
   "outputs": [],
   "source": [
    "df2.to_csv(r'cleaned_data/data_wp.csv', index=False)"
   ]
  },
  {
   "cell_type": "code",
   "execution_count": null,
   "metadata": {},
   "outputs": [],
   "source": []
  }
 ]
}
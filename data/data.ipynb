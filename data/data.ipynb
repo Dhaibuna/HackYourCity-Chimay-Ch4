{
 "metadata": {
  "language_info": {
   "codemirror_mode": {
    "name": "ipython",
    "version": 3
   },
   "file_extension": ".py",
   "mimetype": "text/x-python",
   "name": "python",
   "nbconvert_exporter": "python",
   "pygments_lexer": "ipython3",
   "version": "3.8.5-final"
  },
  "orig_nbformat": 2,
  "kernelspec": {
   "name": "python38564bit5f2391659b0b4e51a5ae522873c52736",
   "display_name": "Python 3.8.5 64-bit",
   "language": "python"
  }
 },
 "nbformat": 4,
 "nbformat_minor": 2,
 "cells": [
  {
   "cell_type": "code",
   "execution_count": 1,
   "metadata": {},
   "outputs": [],
   "source": [
    "# import des librairies\n",
    "import pandas as pd\n",
    "import numpy as np"
   ]
  },
  {
   "cell_type": "code",
   "execution_count": 2,
   "metadata": {},
   "outputs": [
    {
     "output_type": "stream",
     "name": "stdout",
     "text": [
      "/home/ousmane/Hackathon/HackYourCity-Chimay-Ch4\n",
      "--2021-02-03 19:03:48--  https://www.dropbox.com/sh/zgxpx85i6dvfuk9/AAAXEh50WXOu3KtvwOKTy0OIa/Donn%C3%A9es%20Chimay?dl=0&preview=DB+-+Chimay+Centre+-+OpenData+-+v1.0+-+20210202-18h25.csv\n",
      "Resolving www.dropbox.com (www.dropbox.com)... 162.125.66.18, 2620:100:6021:18::a27d:4112\n",
      "Connecting to www.dropbox.com (www.dropbox.com)|162.125.66.18|:443... connected.\n",
      "HTTP request sent, awaiting response... 301 Moved Permanently\n",
      "Location: /sh/raw/zgxpx85i6dvfuk9/AAAXEh50WXOu3KtvwOKTy0OIa/Donn%C3%A9es%20Chimay [following]\n",
      "--2021-02-03 19:03:49--  https://www.dropbox.com/sh/raw/zgxpx85i6dvfuk9/AAAXEh50WXOu3KtvwOKTy0OIa/Donn%C3%A9es%20Chimay\n",
      "Reusing existing connection to www.dropbox.com:443.\n",
      "HTTP request sent, awaiting response... 302 Found\n",
      "Location: https://uc23ded79534236ccaaf3a8ee36f.dl.dropboxusercontent.com/zip_download_get/ArorNkj0iqe-mhfpwafrZVV6FRWvZM_YyzfAhAICNAjte0tiUUxTBu9yztK2sHyYI4CFUC1vMlKJI4LYiX_C_AEPgBDCOx34TFpwtAj9gkAEWw [following]\n",
      "--2021-02-03 19:03:51--  https://uc23ded79534236ccaaf3a8ee36f.dl.dropboxusercontent.com/zip_download_get/ArorNkj0iqe-mhfpwafrZVV6FRWvZM_YyzfAhAICNAjte0tiUUxTBu9yztK2sHyYI4CFUC1vMlKJI4LYiX_C_AEPgBDCOx34TFpwtAj9gkAEWw\n",
      "Resolving uc23ded79534236ccaaf3a8ee36f.dl.dropboxusercontent.com (uc23ded79534236ccaaf3a8ee36f.dl.dropboxusercontent.com)... 162.125.66.15, 2620:100:6021:15::a27d:410f\n",
      "Connecting to uc23ded79534236ccaaf3a8ee36f.dl.dropboxusercontent.com (uc23ded79534236ccaaf3a8ee36f.dl.dropboxusercontent.com)|162.125.66.15|:443... connected.\n",
      "HTTP request sent, awaiting response... 200 OK\n",
      "Length: 90923 (89K) [application/zip]\n",
      "Saving to: ‘Données Chimay?dl=0&preview=DB+-+Chimay+Centre+-+OpenData+-+v1.0+-+20210202-18h25.csv’\n",
      "\n",
      "Données Chimay?dl=0 100%[===================>]  88.79K  --.-KB/s    in 0.1s    \n",
      "\n",
      "Last-modified header missing -- time-stamps turned off.\n",
      "2021-02-03 19:03:53 (695 KB/s) - ‘Données Chimay?dl=0&preview=DB+-+Chimay+Centre+-+OpenData+-+v1.0+-+20210202-18h25.csv’ saved [90923/90923]\n",
      "\n"
     ]
    }
   ],
   "source": [
    "# lien du premier dataset et sauvegarde du fichier\n",
    "!pwd\n",
    "!wget -N \"https://www.dropbox.com/sh/zgxpx85i6dvfuk9/AAAXEh50WXOu3KtvwOKTy0OIa/Donn%C3%A9es%20Chimay?dl=0&preview=DB+-+Chimay+Centre+-+OpenData+-+v1.0+-+20210202-18h25.csv\""
   ]
  },
  {
   "cell_type": "code",
   "execution_count": 3,
   "metadata": {},
   "outputs": [],
   "source": [
    "# import du premier dataset\n",
    "df = pd.read_csv(\"Données Chimay?dl=0&preview=DB+-+Chimay+Centre+-+OpenData+-+v1.0+-+20210202-18h25.csv\", encoding= 'unicode_escape')"
   ]
  },
  {
   "cell_type": "code",
   "execution_count": 4,
   "metadata": {},
   "outputs": [],
   "source": [
    "# import le deuxieme dataset\n",
    "df2 = pd.read_csv(\"commerces/commerces.csv\", sep=',')"
   ]
  },
  {
   "cell_type": "code",
   "execution_count": 5,
   "metadata": {},
   "outputs": [],
   "source": [
    "# set des display options\n",
    "pd.options.display.max_columns = 20\n",
    "pd.options.display.max_rows = None"
   ]
  },
  {
   "cell_type": "code",
   "execution_count": 6,
   "metadata": {},
   "outputs": [
    {
     "output_type": "execute_result",
     "data": {
      "text/plain": [
       "     PK\u0003\u0004\u0014                post_title                post_slug  \\\n",
       "82    3439                Le Papyrus               le-papyrus   \n",
       "41    3328  Comptoir Automobile S.A.  comptoir-automobile-s-a   \n",
       "29    3310          Cawet Orthopedie         cawet-orthopedie   \n",
       "127   3528              Sprl Michaux             sprl-michaux   \n",
       "6     3252              Agence Atipi             agence-atipi   \n",
       "\n",
       "      directory_category          post_content location_address__street  \\\n",
       "82   librairie-papeterie  Description Ã  venir      Rue des Ormeaux, 25   \n",
       "41             auto-moto  Description Ã  venir      ChÃ©e de Couvin, 96   \n",
       "29        soins-de-sante  Description Ã  venir        Rue de Virelles 1   \n",
       "127  banque-et-assurance  Description Ã  venir        Place du Prince 2   \n",
       "6             immobilier  Description Ã  venir      Place des Princes 3   \n",
       "\n",
       "     location_address__zip location_address__city  \\\n",
       "82                  6460.0                 CHIMAY   \n",
       "41                  6460.0                 CHIMAY   \n",
       "29                  6460.0                 Chimay   \n",
       "127                 6460.0                 CHIMAY   \n",
       "6                   6460.0                 CHIMAY   \n",
       "\n",
       "            location_address__address  location_address__lat  \\\n",
       "82   Rue des Ormeaux, 25, 6460 CHIMAY              50.047700   \n",
       "41   ChÃ©e de Couvin, 96, 6460 CHIMAY              50.045348   \n",
       "29     Rue de Virelles 1, 6460 Chimay              50.049454   \n",
       "127    Place du Prince 2, 6460 CHIMAY              50.049006   \n",
       "6    Place des Princes 3, 6460 CHIMAY              50.048713   \n",
       "\n",
       "     location_address__lng directory_tag                  field_email  \\\n",
       "82                4.316348           NaN                          NaN   \n",
       "41                4.327377           NaN                          NaN   \n",
       "29                4.317637           NaN  cawet-orthopedie@hotmail.be   \n",
       "127               4.319955           NaN    info@michauxassurances.be   \n",
       "6                 4.320224           NaN             contact@atipi.be   \n",
       "\n",
       "      field_phone                    field_social_accounts__facebook  \\\n",
       "82   060/21 44 08           https://www.facebook.com/librairiechimay   \n",
       "41   060/21 13 92                                                NaN   \n",
       "29    0476/906709  https://www.facebook.com/Cawet-Orthopedie-scs-...   \n",
       "127  060/21 13 45                                                NaN   \n",
       "6    060/31 18 89                                                NaN   \n",
       "\n",
       "    field_website                                   directory_photos  \n",
       "82            NaN  httpchimaycommerce.wpengine.comwp-contentuploa...  \n",
       "41            NaN                                                NaN  \n",
       "29            NaN                                                NaN  \n",
       "127           NaN                                                NaN  \n",
       "6             NaN                                                NaN  "
      ],
      "text/html": "<div>\n<style scoped>\n    .dataframe tbody tr th:only-of-type {\n        vertical-align: middle;\n    }\n\n    .dataframe tbody tr th {\n        vertical-align: top;\n    }\n\n    .dataframe thead th {\n        text-align: right;\n    }\n</style>\n<table border=\"1\" class=\"dataframe\">\n  <thead>\n    <tr style=\"text-align: right;\">\n      <th></th>\n      <th>PK\u0003\u0004\u0014</th>\n      <th>post_title</th>\n      <th>post_slug</th>\n      <th>directory_category</th>\n      <th>post_content</th>\n      <th>location_address__street</th>\n      <th>location_address__zip</th>\n      <th>location_address__city</th>\n      <th>location_address__address</th>\n      <th>location_address__lat</th>\n      <th>location_address__lng</th>\n      <th>directory_tag</th>\n      <th>field_email</th>\n      <th>field_phone</th>\n      <th>field_social_accounts__facebook</th>\n      <th>field_website</th>\n      <th>directory_photos</th>\n    </tr>\n  </thead>\n  <tbody>\n    <tr>\n      <th>82</th>\n      <td>3439</td>\n      <td>Le Papyrus</td>\n      <td>le-papyrus</td>\n      <td>librairie-papeterie</td>\n      <td>Description Ã  venir</td>\n      <td>Rue des Ormeaux, 25</td>\n      <td>6460.0</td>\n      <td>CHIMAY</td>\n      <td>Rue des Ormeaux, 25, 6460 CHIMAY</td>\n      <td>50.047700</td>\n      <td>4.316348</td>\n      <td>NaN</td>\n      <td>NaN</td>\n      <td>060/21 44 08</td>\n      <td>https://www.facebook.com/librairiechimay</td>\n      <td>NaN</td>\n      <td>httpchimaycommerce.wpengine.comwp-contentuploa...</td>\n    </tr>\n    <tr>\n      <th>41</th>\n      <td>3328</td>\n      <td>Comptoir Automobile S.A.</td>\n      <td>comptoir-automobile-s-a</td>\n      <td>auto-moto</td>\n      <td>Description Ã  venir</td>\n      <td>ChÃ©e de Couvin, 96</td>\n      <td>6460.0</td>\n      <td>CHIMAY</td>\n      <td>ChÃ©e de Couvin, 96, 6460 CHIMAY</td>\n      <td>50.045348</td>\n      <td>4.327377</td>\n      <td>NaN</td>\n      <td>NaN</td>\n      <td>060/21 13 92</td>\n      <td>NaN</td>\n      <td>NaN</td>\n      <td>NaN</td>\n    </tr>\n    <tr>\n      <th>29</th>\n      <td>3310</td>\n      <td>Cawet Orthopedie</td>\n      <td>cawet-orthopedie</td>\n      <td>soins-de-sante</td>\n      <td>Description Ã  venir</td>\n      <td>Rue de Virelles 1</td>\n      <td>6460.0</td>\n      <td>Chimay</td>\n      <td>Rue de Virelles 1, 6460 Chimay</td>\n      <td>50.049454</td>\n      <td>4.317637</td>\n      <td>NaN</td>\n      <td>cawet-orthopedie@hotmail.be</td>\n      <td>0476/906709</td>\n      <td>https://www.facebook.com/Cawet-Orthopedie-scs-...</td>\n      <td>NaN</td>\n      <td>NaN</td>\n    </tr>\n    <tr>\n      <th>127</th>\n      <td>3528</td>\n      <td>Sprl Michaux</td>\n      <td>sprl-michaux</td>\n      <td>banque-et-assurance</td>\n      <td>Description Ã  venir</td>\n      <td>Place du Prince 2</td>\n      <td>6460.0</td>\n      <td>CHIMAY</td>\n      <td>Place du Prince 2, 6460 CHIMAY</td>\n      <td>50.049006</td>\n      <td>4.319955</td>\n      <td>NaN</td>\n      <td>info@michauxassurances.be</td>\n      <td>060/21 13 45</td>\n      <td>NaN</td>\n      <td>NaN</td>\n      <td>NaN</td>\n    </tr>\n    <tr>\n      <th>6</th>\n      <td>3252</td>\n      <td>Agence Atipi</td>\n      <td>agence-atipi</td>\n      <td>immobilier</td>\n      <td>Description Ã  venir</td>\n      <td>Place des Princes 3</td>\n      <td>6460.0</td>\n      <td>CHIMAY</td>\n      <td>Place des Princes 3, 6460 CHIMAY</td>\n      <td>50.048713</td>\n      <td>4.320224</td>\n      <td>NaN</td>\n      <td>contact@atipi.be</td>\n      <td>060/31 18 89</td>\n      <td>NaN</td>\n      <td>NaN</td>\n      <td>NaN</td>\n    </tr>\n  </tbody>\n</table>\n</div>"
     },
     "metadata": {},
     "execution_count": 6
    }
   ],
   "source": [
    "# affichage du premier dataset\n",
    "df.sample(5)"
   ]
  },
  {
   "cell_type": "code",
   "execution_count": 7,
   "metadata": {},
   "outputs": [
    {
     "output_type": "execute_result",
     "data": {
      "text/plain": [
       "(199, 17)"
      ]
     },
     "metadata": {},
     "execution_count": 7
    }
   ],
   "source": [
    "# composition \n",
    "df.shape"
   ]
  },
  {
   "cell_type": "code",
   "execution_count": 8,
   "metadata": {},
   "outputs": [
    {
     "output_type": "execute_result",
     "data": {
      "text/plain": [
       "                             directory_category  entity_featured__value  \\\n",
       "249  depart-de-balade;hiking;patrimoine-naturel                     NaN   \n",
       "167                         banque-et-assurance                     NaN   \n",
       "133                         librairie-papeterie                     NaN   \n",
       "44                               soins-de-sante                     NaN   \n",
       "176                                     animaux                     NaN   \n",
       "265                               loisirs;sport                     NaN   \n",
       "11                                      textile                     NaN   \n",
       "145                         banque-et-assurance                     NaN   \n",
       "7                                   supermarche                     NaN   \n",
       "101                                    commerce                     NaN   \n",
       "\n",
       "            post_content location_address__street  location_address__street2  \\\n",
       "249                  NaN            Place Léopold                        NaN   \n",
       "167  Description à venir     Rue de bourlers 14/1                        NaN   \n",
       "133  Description à venir      Rue des Ormeaux, 25                        NaN   \n",
       "44   Description à venir       Rue  de Virelles 1                        NaN   \n",
       "176  Description à venir      Rue de Bourlers, 21                        NaN   \n",
       "265                  NaN       Avenue du Chalon 1                        NaN   \n",
       "11   Description à venir           Grand place 22                        NaN   \n",
       "145  Description à venir       Chée de Couvin, 37                        NaN   \n",
       "7    Description à venir            Ch. de Couvin                        NaN   \n",
       "101  Description à venir           Chée de Couvin                        NaN   \n",
       "\n",
       "    location_address__city location_address__country  \\\n",
       "249                 Chimay                        BE   \n",
       "167                 Chimay                        BE   \n",
       "133                 CHIMAY                        BE   \n",
       "44                  Chimay                        BE   \n",
       "176                 CHIMAY                        BE   \n",
       "265                 Chimay                        BE   \n",
       "11                  Chimay                        BE   \n",
       "145                 CHIMAY                        BE   \n",
       "7                   CHIMAY                        BE   \n",
       "101                 CHIMAY                        BE   \n",
       "\n",
       "                     location_address__address  location_address__lat  \\\n",
       "249              N99 16, 6460 Chimay, Belgique              50.047302   \n",
       "167          Rue de bourlers 14/1, 6460 Chimay              50.047520   \n",
       "133           Rue des Ormeaux, 25, 6460 CHIMAY              50.047700   \n",
       "44             Rue  de Virelles 1, 6460 Chimay              50.049454   \n",
       "176           Rue de Bourlers, 21, 6460 CHIMAY              50.044235   \n",
       "265  Rue de Virelles 34, 6460 Chimay, Belgique              50.050485   \n",
       "11                 Grand place 22, 6460 Chimay              50.049308   \n",
       "145            Chée de Couvin, 37, 6460 CHIMAY              50.047067   \n",
       "7                   Ch. de Couvin, 6460 CHIMAY              50.044804   \n",
       "101                Chée de Couvin, 6460 CHIMAY              50.044320   \n",
       "\n",
       "    location_address__term_id  ...  field_opening_hours    field_phone  \\\n",
       "249                    chimay  ...                  NaN            NaN   \n",
       "167                    chimay  ...                  NaN     060/211104   \n",
       "133                    chimay  ...                  NaN   060/21 44 08   \n",
       "44                     chimay  ...                  NaN    0476/906709   \n",
       "176                    chimay  ...                  NaN   060/21 30 81   \n",
       "265                    chimay  ...                  NaN            NaN   \n",
       "11                     chimay  ...                  NaN  0485 07 12 50   \n",
       "145                    chimay  ...                  NaN   060/21 10 30   \n",
       "7                      chimay  ...                  NaN            NaN   \n",
       "101                    chimay  ...                  NaN   060/21 42 31   \n",
       "\n",
       "    field_price_range                    field_social_accounts__facebook  \\\n",
       "249               NaN                                                NaN   \n",
       "167             0|100                   https://www.facebook.com/ozedis/   \n",
       "133               NaN           https://www.facebook.com/librairiechimay   \n",
       "44                NaN  https://www.facebook.com/Cawet-Orthopedie-scs-...   \n",
       "176               NaN                                                NaN   \n",
       "265             0|100                                                NaN   \n",
       "11                NaN                 https://www.facebook.com/AtelierAC   \n",
       "145               NaN                                                NaN   \n",
       "7                 NaN                                                NaN   \n",
       "101               NaN                                                NaN   \n",
       "\n",
       "    field_social_accounts__instagram  field_social_accounts__linkedin  \\\n",
       "249                              NaN                              NaN   \n",
       "167                              NaN                              NaN   \n",
       "133                              NaN                              NaN   \n",
       "44                               NaN                              NaN   \n",
       "176                              NaN                              NaN   \n",
       "265                              NaN                              NaN   \n",
       "11                               NaN                              NaN   \n",
       "145                              NaN                              NaN   \n",
       "7                                NaN                              NaN   \n",
       "101                              NaN                              NaN   \n",
       "\n",
       "    field_social_accounts__twitter field_social_accounts__youtube  \\\n",
       "249                            NaN                            NaN   \n",
       "167                            NaN                            NaN   \n",
       "133                            NaN                            NaN   \n",
       "44                             NaN                            NaN   \n",
       "176                            NaN                            NaN   \n",
       "265                            NaN                            NaN   \n",
       "11                             NaN                            NaN   \n",
       "145                            NaN                            NaN   \n",
       "7                              NaN                            NaN   \n",
       "101                            NaN                            NaN   \n",
       "\n",
       "     field_videos          field_website  \n",
       "249           NaN                    NaN  \n",
       "167           NaN  http://www.ozedis.be/  \n",
       "133           NaN                    NaN  \n",
       "44            NaN                    NaN  \n",
       "176           NaN                    NaN  \n",
       "265           NaN                    NaN  \n",
       "11            NaN  https://atelierac.be/  \n",
       "145           NaN                    NaN  \n",
       "7             NaN                    NaN  \n",
       "101           NaN                    NaN  \n",
       "\n",
       "[10 rows x 29 columns]"
      ],
      "text/html": "<div>\n<style scoped>\n    .dataframe tbody tr th:only-of-type {\n        vertical-align: middle;\n    }\n\n    .dataframe tbody tr th {\n        vertical-align: top;\n    }\n\n    .dataframe thead th {\n        text-align: right;\n    }\n</style>\n<table border=\"1\" class=\"dataframe\">\n  <thead>\n    <tr style=\"text-align: right;\">\n      <th></th>\n      <th>directory_category</th>\n      <th>entity_featured__value</th>\n      <th>post_content</th>\n      <th>location_address__street</th>\n      <th>location_address__street2</th>\n      <th>location_address__city</th>\n      <th>location_address__country</th>\n      <th>location_address__address</th>\n      <th>location_address__lat</th>\n      <th>location_address__term_id</th>\n      <th>...</th>\n      <th>field_opening_hours</th>\n      <th>field_phone</th>\n      <th>field_price_range</th>\n      <th>field_social_accounts__facebook</th>\n      <th>field_social_accounts__instagram</th>\n      <th>field_social_accounts__linkedin</th>\n      <th>field_social_accounts__twitter</th>\n      <th>field_social_accounts__youtube</th>\n      <th>field_videos</th>\n      <th>field_website</th>\n    </tr>\n  </thead>\n  <tbody>\n    <tr>\n      <th>249</th>\n      <td>depart-de-balade;hiking;patrimoine-naturel</td>\n      <td>NaN</td>\n      <td>NaN</td>\n      <td>Place Léopold</td>\n      <td>NaN</td>\n      <td>Chimay</td>\n      <td>BE</td>\n      <td>N99 16, 6460 Chimay, Belgique</td>\n      <td>50.047302</td>\n      <td>chimay</td>\n      <td>...</td>\n      <td>NaN</td>\n      <td>NaN</td>\n      <td>NaN</td>\n      <td>NaN</td>\n      <td>NaN</td>\n      <td>NaN</td>\n      <td>NaN</td>\n      <td>NaN</td>\n      <td>NaN</td>\n      <td>NaN</td>\n    </tr>\n    <tr>\n      <th>167</th>\n      <td>banque-et-assurance</td>\n      <td>NaN</td>\n      <td>Description à venir</td>\n      <td>Rue de bourlers 14/1</td>\n      <td>NaN</td>\n      <td>Chimay</td>\n      <td>BE</td>\n      <td>Rue de bourlers 14/1, 6460 Chimay</td>\n      <td>50.047520</td>\n      <td>chimay</td>\n      <td>...</td>\n      <td>NaN</td>\n      <td>060/211104</td>\n      <td>0|100</td>\n      <td>https://www.facebook.com/ozedis/</td>\n      <td>NaN</td>\n      <td>NaN</td>\n      <td>NaN</td>\n      <td>NaN</td>\n      <td>NaN</td>\n      <td>http://www.ozedis.be/</td>\n    </tr>\n    <tr>\n      <th>133</th>\n      <td>librairie-papeterie</td>\n      <td>NaN</td>\n      <td>Description à venir</td>\n      <td>Rue des Ormeaux, 25</td>\n      <td>NaN</td>\n      <td>CHIMAY</td>\n      <td>BE</td>\n      <td>Rue des Ormeaux, 25, 6460 CHIMAY</td>\n      <td>50.047700</td>\n      <td>chimay</td>\n      <td>...</td>\n      <td>NaN</td>\n      <td>060/21 44 08</td>\n      <td>NaN</td>\n      <td>https://www.facebook.com/librairiechimay</td>\n      <td>NaN</td>\n      <td>NaN</td>\n      <td>NaN</td>\n      <td>NaN</td>\n      <td>NaN</td>\n      <td>NaN</td>\n    </tr>\n    <tr>\n      <th>44</th>\n      <td>soins-de-sante</td>\n      <td>NaN</td>\n      <td>Description à venir</td>\n      <td>Rue  de Virelles 1</td>\n      <td>NaN</td>\n      <td>Chimay</td>\n      <td>BE</td>\n      <td>Rue  de Virelles 1, 6460 Chimay</td>\n      <td>50.049454</td>\n      <td>chimay</td>\n      <td>...</td>\n      <td>NaN</td>\n      <td>0476/906709</td>\n      <td>NaN</td>\n      <td>https://www.facebook.com/Cawet-Orthopedie-scs-...</td>\n      <td>NaN</td>\n      <td>NaN</td>\n      <td>NaN</td>\n      <td>NaN</td>\n      <td>NaN</td>\n      <td>NaN</td>\n    </tr>\n    <tr>\n      <th>176</th>\n      <td>animaux</td>\n      <td>NaN</td>\n      <td>Description à venir</td>\n      <td>Rue de Bourlers, 21</td>\n      <td>NaN</td>\n      <td>CHIMAY</td>\n      <td>BE</td>\n      <td>Rue de Bourlers, 21, 6460 CHIMAY</td>\n      <td>50.044235</td>\n      <td>chimay</td>\n      <td>...</td>\n      <td>NaN</td>\n      <td>060/21 30 81</td>\n      <td>NaN</td>\n      <td>NaN</td>\n      <td>NaN</td>\n      <td>NaN</td>\n      <td>NaN</td>\n      <td>NaN</td>\n      <td>NaN</td>\n      <td>NaN</td>\n    </tr>\n    <tr>\n      <th>265</th>\n      <td>loisirs;sport</td>\n      <td>NaN</td>\n      <td>NaN</td>\n      <td>Avenue du Chalon 1</td>\n      <td>NaN</td>\n      <td>Chimay</td>\n      <td>BE</td>\n      <td>Rue de Virelles 34, 6460 Chimay, Belgique</td>\n      <td>50.050485</td>\n      <td>chimay</td>\n      <td>...</td>\n      <td>NaN</td>\n      <td>NaN</td>\n      <td>0|100</td>\n      <td>NaN</td>\n      <td>NaN</td>\n      <td>NaN</td>\n      <td>NaN</td>\n      <td>NaN</td>\n      <td>NaN</td>\n      <td>NaN</td>\n    </tr>\n    <tr>\n      <th>11</th>\n      <td>textile</td>\n      <td>NaN</td>\n      <td>Description à venir</td>\n      <td>Grand place 22</td>\n      <td>NaN</td>\n      <td>Chimay</td>\n      <td>BE</td>\n      <td>Grand place 22, 6460 Chimay</td>\n      <td>50.049308</td>\n      <td>chimay</td>\n      <td>...</td>\n      <td>NaN</td>\n      <td>0485 07 12 50</td>\n      <td>NaN</td>\n      <td>https://www.facebook.com/AtelierAC</td>\n      <td>NaN</td>\n      <td>NaN</td>\n      <td>NaN</td>\n      <td>NaN</td>\n      <td>NaN</td>\n      <td>https://atelierac.be/</td>\n    </tr>\n    <tr>\n      <th>145</th>\n      <td>banque-et-assurance</td>\n      <td>NaN</td>\n      <td>Description à venir</td>\n      <td>Chée de Couvin, 37</td>\n      <td>NaN</td>\n      <td>CHIMAY</td>\n      <td>BE</td>\n      <td>Chée de Couvin, 37, 6460 CHIMAY</td>\n      <td>50.047067</td>\n      <td>chimay</td>\n      <td>...</td>\n      <td>NaN</td>\n      <td>060/21 10 30</td>\n      <td>NaN</td>\n      <td>NaN</td>\n      <td>NaN</td>\n      <td>NaN</td>\n      <td>NaN</td>\n      <td>NaN</td>\n      <td>NaN</td>\n      <td>NaN</td>\n    </tr>\n    <tr>\n      <th>7</th>\n      <td>supermarche</td>\n      <td>NaN</td>\n      <td>Description à venir</td>\n      <td>Ch. de Couvin</td>\n      <td>NaN</td>\n      <td>CHIMAY</td>\n      <td>BE</td>\n      <td>Ch. de Couvin, 6460 CHIMAY</td>\n      <td>50.044804</td>\n      <td>chimay</td>\n      <td>...</td>\n      <td>NaN</td>\n      <td>NaN</td>\n      <td>NaN</td>\n      <td>NaN</td>\n      <td>NaN</td>\n      <td>NaN</td>\n      <td>NaN</td>\n      <td>NaN</td>\n      <td>NaN</td>\n      <td>NaN</td>\n    </tr>\n    <tr>\n      <th>101</th>\n      <td>commerce</td>\n      <td>NaN</td>\n      <td>Description à venir</td>\n      <td>Chée de Couvin</td>\n      <td>NaN</td>\n      <td>CHIMAY</td>\n      <td>BE</td>\n      <td>Chée de Couvin, 6460 CHIMAY</td>\n      <td>50.044320</td>\n      <td>chimay</td>\n      <td>...</td>\n      <td>NaN</td>\n      <td>060/21 42 31</td>\n      <td>NaN</td>\n      <td>NaN</td>\n      <td>NaN</td>\n      <td>NaN</td>\n      <td>NaN</td>\n      <td>NaN</td>\n      <td>NaN</td>\n      <td>NaN</td>\n    </tr>\n  </tbody>\n</table>\n<p>10 rows × 29 columns</p>\n</div>"
     },
     "metadata": {},
     "execution_count": 8
    }
   ],
   "source": [
    "# affichage du deuxieme dataset\n",
    "df2.sample(10)"
   ]
  },
  {
   "cell_type": "code",
   "execution_count": 9,
   "metadata": {},
   "outputs": [
    {
     "output_type": "stream",
     "name": "stdout",
     "text": [
      "<class 'pandas.core.frame.DataFrame'>\nRangeIndex: 269 entries, 0 to 268\nData columns (total 29 columns):\n #   Column                            Non-Null Count  Dtype  \n---  ------                            --------------  -----  \n 0   directory_category                266 non-null    object \n 1   entity_featured__value            0 non-null      float64\n 2   post_content                      222 non-null    object \n 3   location_address__street          268 non-null    object \n 4   location_address__street2         0 non-null      float64\n 5   location_address__city            266 non-null    object \n 6   location_address__country         266 non-null    object \n 7   location_address__address         266 non-null    object \n 8   location_address__lat             269 non-null    float64\n 9   location_address__term_id         267 non-null    object \n 10  location_address__lng             269 non-null    float64\n 11  location_address__zip             268 non-null    float64\n 12  location_address__province        266 non-null    object \n 13  location_address__timezone        266 non-null    object \n 14  directory_photos                  179 non-null    object \n 15  voting_rating                     0 non-null      float64\n 16  directory_tag                     9 non-null      object \n 17  post_title                        269 non-null    object \n 18  voting_updown                     0 non-null      float64\n 19  field_opening_hours               2 non-null      object \n 20  field_phone                       217 non-null    object \n 21  field_price_range                 98 non-null     object \n 22  field_social_accounts__facebook   120 non-null    object \n 23  field_social_accounts__instagram  0 non-null      float64\n 24  field_social_accounts__linkedin   0 non-null      float64\n 25  field_social_accounts__twitter    0 non-null      float64\n 26  field_social_accounts__youtube    0 non-null      float64\n 27  field_videos                      0 non-null      float64\n 28  field_website                     50 non-null     object \ndtypes: float64(12), object(17)\nmemory usage: 61.1+ KB\n"
     ]
    }
   ],
   "source": [
    "# print options\n",
    "df2.info()"
   ]
  },
  {
   "cell_type": "code",
   "execution_count": 10,
   "metadata": {},
   "outputs": [
    {
     "output_type": "execute_result",
     "data": {
      "text/plain": [
       "(269, 29)"
      ]
     },
     "metadata": {},
     "execution_count": 10
    }
   ],
   "source": [
    "# shape\n",
    "df2.shape"
   ]
  },
  {
   "cell_type": "code",
   "execution_count": 11,
   "metadata": {},
   "outputs": [
    {
     "output_type": "execute_result",
     "data": {
      "text/plain": [
       "directory_category                    3\n",
       "entity_featured__value              269\n",
       "post_content                         47\n",
       "location_address__street              1\n",
       "location_address__street2           269\n",
       "location_address__city                3\n",
       "location_address__country             3\n",
       "location_address__address             3\n",
       "location_address__lat                 0\n",
       "location_address__term_id             2\n",
       "location_address__lng                 0\n",
       "location_address__zip                 1\n",
       "location_address__province            3\n",
       "location_address__timezone            3\n",
       "directory_photos                     90\n",
       "voting_rating                       269\n",
       "directory_tag                       260\n",
       "post_title                            0\n",
       "voting_updown                       269\n",
       "field_opening_hours                 267\n",
       "field_phone                          52\n",
       "field_price_range                   171\n",
       "field_social_accounts__facebook     149\n",
       "field_social_accounts__instagram    269\n",
       "field_social_accounts__linkedin     269\n",
       "field_social_accounts__twitter      269\n",
       "field_social_accounts__youtube      269\n",
       "field_videos                        269\n",
       "field_website                       219\n",
       "dtype: int64"
      ]
     },
     "metadata": {},
     "execution_count": 11
    }
   ],
   "source": [
    "# regarder les donnees manquantes\n",
    "df2.isna().sum()"
   ]
  },
  {
   "cell_type": "code",
   "execution_count": 12,
   "metadata": {},
   "outputs": [],
   "source": [
    "# mise en liste des colonnes inutils a supprimer\n",
    "list = [\"field_social_accounts__instagram\", \"field_social_accounts__linkedin\", \"field_social_accounts__twitter\", \"field_social_accounts__youtube\", \"field_videos\", \"voting_updown\", \"voting_rating\", \"directory_tag\", \"location_address__street2\", \"entity_featured__value\", \"field_opening_hours\", \"location_address__country\", \"location_address__province\", \"location_address__timezone\", \"field_price_range\", \"directory_photos\"]"
   ]
  },
  {
   "cell_type": "code",
   "execution_count": 13,
   "metadata": {},
   "outputs": [],
   "source": [
    "# suppression\n",
    "df2.drop(list, axis=1, inplace=True)"
   ]
  },
  {
   "cell_type": "code",
   "execution_count": 14,
   "metadata": {},
   "outputs": [
    {
     "output_type": "execute_result",
     "data": {
      "text/plain": [
       "(269, 13)"
      ]
     },
     "metadata": {},
     "execution_count": 14
    }
   ],
   "source": [
    "# nouveau shape\n",
    "df2.shape"
   ]
  },
  {
   "cell_type": "code",
   "execution_count": 15,
   "metadata": {},
   "outputs": [],
   "source": [
    "# correction des valeurs manquantes\n",
    "df2['post_content'].fillna(\"Description à venir\", inplace=True)\n",
    "df2['field_social_accounts__facebook'].fillna(\"A venir\", inplace=True)\n",
    "df2['field_website'].fillna(\"A venir\", inplace=True)\n",
    "df2['directory_category'].fillna(\"Autre\", inplace=True)\n",
    "df2['location_address__street'].fillna(\"Neant\", inplace=True)\n",
    "df2['location_address__city'].fillna(\"Chimay\", inplace=True)\n",
    "df2['location_address__address'].fillna(df2['location_address__city'], inplace=True)\n",
    "df2['location_address__term_id'].fillna(\"chimay\", inplace=True)\n",
    "df2['location_address__zip'].fillna(6460.0, inplace=True)\n",
    "df2['field_phone'].fillna(0, inplace=True)\n"
   ]
  },
  {
   "cell_type": "code",
   "execution_count": 16,
   "metadata": {},
   "outputs": [],
   "source": [
    "# reglage de la police des valeurs\n",
    "df2[\"location_address__city\"] = df2[\"location_address__city\"].str.lower()\n",
    "df2[\"location_address__term_id\"] = df2[\"location_address__term_id\"].str.lower()\n",
    "df2[\"directory_category\"] = df2[\"directory_category\"].str.lower()"
   ]
  },
  {
   "cell_type": "code",
   "execution_count": 17,
   "metadata": {},
   "outputs": [],
   "source": [
    "# re-groupement des categories minoritaires sous \"autre\"\n",
    "\n",
    "val = ['patrimoine-historique;portes-historiques', 'divers;wifi', 'patrimoine-historique', 'animation-musicale, artisan-createur', 'animation-musicale;attraction;contes-et-legendes;fantomes;tournages;monuments-et-statues;moto-bienvenue;parkings;patrimoine-historique;point-de-vue;shooting-place;toilettes-publiques;velo-bienvenue', 'patrimoine-historique;portes-historiques;vestiges-medievaux', 'monuments-et-statues;patrimoine-historique', 'animation-musicale', 'artisan-createur', 'moto-bienvenue;parkings;velo-bienvenue', 'information-touristique;souvenirs;toilettes-publiques;velo-bienvenue', 'attraction;contes-et-legendes;devises-et-inscriptions;fantomes;tournages;patrimoine-historique;puzzle;toilettes-publiques', 'art-artisanat;culture;meeting-space;parkings;wifi', 'patrimoine-naturel;point-de-vue;portes-historiques;vestiges-medievaux;pic-nic', 'contes-et-legendes;patrimoine-historique;point-de-vue;portes-historiques;vestiges-medievaux', 'devises-et-inscriptions;patrimoine-historique;point-de-vue;portes-historiques;shooting-place;vestiges-medievaux', 'moto-bienvenue;parkings', 'moto-bienvenue;parkings;patrimoine-naturel;velo-bienvenue;pic-nic', 'camping;zone-motorhome', 'contes-et-legendes;patrimoine-historique;point-de-vue;portes-historiques;vestiges-medievaux', 'patrimoine;point-de-vue', 'transports', 'animation-musicale;tournages;patrimoine-historique', 'commerce;construction-renovation', 'contes-et-legendes;parkings;patrimoine-historique;shooting-place;velo-bienvenue', 'moto-bienvenue;parkings;transports', 'attraction;contes-et-legendes;lieux-de-culte;tournages;patrimoine-historique', 'animation-musicale;attraction;contes-et-legendes;culture;devises-et-inscriptions;fantomes;tournages;loisirs;patrimoine-historique;point-de-vue;vestiges-medievaux', 'commerce-alimentaire;traiteur', 'librairie-papeterie', 'animation-musicale;lieux-de-culte;patrimoine', 'depart-de-balade;fantomes;loisirs;puzzle', 'telephonie', 'contes-et-legendes;devises-et-inscriptions;meeting-space;monuments-et-statues;patrimoine-historique;shooting-place;velo-bienvenue', 'contes-et-legendes;patrimoine-historique;vestiges-medievaux']"
   ]
  },
  {
   "cell_type": "code",
   "execution_count": 18,
   "metadata": {},
   "outputs": [],
   "source": [
    "# boucle for pour remplacer les categories regroupees plus haut\n",
    "for i in val:\n",
    "    df2[\"directory_category\"] = df2[\"directory_category\"].replace(i, 'autre')"
   ]
  },
  {
   "cell_type": "code",
   "execution_count": 19,
   "metadata": {},
   "outputs": [],
   "source": [
    "# regroupement en grande categorie\n",
    "a = [\"commerce\", \"commerce-alimentaire\", \"commerce-alimentaire\", \"commerce;velo-bienvenue\",\"supermarche\", \"agence-de-voyage\", \"coiffure\", \"construction-renovation\", \"services\",  \"carburants\", \"informatique\", \"hebergement\", \"immobilier\"]\n",
    "\n",
    "b = [\"autre\", \"description à venir\", \"optique\"]\n",
    "\n",
    "c = [\"restaurant-cafe-snack\", \"moto-welcomed;restaurant-cafe-snack\", \"traiteur\"]  \n",
    "\n",
    "\n",
    "d = [\"loisirs\", \"loisirs;sport\", \"esthetique\", \"jardins-et-fleurs\", \"auto-moto\"]    \n",
    "\n",
    "e = [\"soins-de-sante\", \"centres-medicaux\"] \n",
    "\n",
    "f = [\"lieux-de-culte;patrimoine-historique\",  \"tournages;patrimoine-historique\", \"tournages;patrimoine-historique;point-de-vue;vestiges-medievaux\", \"art-artisanat;artisan-createur\", \"depart-de-balade;patrimoine-naturel;point-de-vue;sport;transports;velo-bienvenue;pic-nic\",  \"depart-de-balade;hiking;patrimoine-naturel\" ]\n",
    "\n",
    "g = [\"bancontact;banque-et-assurance\", \"banque-et-assurance;banques\", \"banques\", \"banque-et-assurance\"]             "
   ]
  },
  {
   "cell_type": "code",
   "execution_count": 20,
   "metadata": {},
   "outputs": [],
   "source": [
    "# transformation des valeurs pour les autres categories\n",
    "for i in a:\n",
    "    df2[\"directory_category\"] = df2[\"directory_category\"].replace(i, 'Commerce et Service')\n",
    "for i in b:\n",
    "    df2[\"directory_category\"] = df2[\"directory_category\"].replace(i, 'Autre')\n",
    "for i in c:\n",
    "    df2[\"directory_category\"] = df2[\"directory_category\"].replace(i, 'Resto et Snack')\n",
    "for i in d:\n",
    "    df2[\"directory_category\"] = df2[\"directory_category\"].replace(i, 'Sports et Loisirs')\n",
    "for i in e:\n",
    "    df2[\"directory_category\"] = df2[\"directory_category\"].replace(i, 'Sante')\n",
    "for i in f:\n",
    "    df2[\"directory_category\"] = df2[\"directory_category\"].replace(i, 'Art et Lieux Historiques')\n",
    "for i in g:\n",
    "    df2[\"directory_category\"] = df2[\"directory_category\"].replace(i, 'Banque et Finance')"
   ]
  },
  {
   "cell_type": "code",
   "execution_count": 21,
   "metadata": {},
   "outputs": [
    {
     "output_type": "execute_result",
     "data": {
      "text/plain": [
       "Commerce et Service         102\n",
       "Resto et Snack               43\n",
       "Autre                        39\n",
       "Sports et Loisirs            33\n",
       "Banque et Finance            17\n",
       "Art et Lieux Historiques     13\n",
       "textile                      10\n",
       "Sante                         7\n",
       "animaux                       5\n",
       "Name: directory_category, dtype: int64"
      ]
     },
     "metadata": {},
     "execution_count": 21
    }
   ],
   "source": [
    "# check des nouvelles valeurs\n",
    "df2[\"directory_category\"].value_counts()"
   ]
  },
  {
   "cell_type": "code",
   "execution_count": 22,
   "metadata": {},
   "outputs": [],
   "source": [
    "#fill an empty value in location_address__street\n",
    "df2.iloc[195, 2] = \"chimay\""
   ]
  },
  {
   "cell_type": "code",
   "execution_count": 23,
   "metadata": {},
   "outputs": [
    {
     "output_type": "execute_result",
     "data": {
      "text/plain": [
       "           directory_category  \\\n",
       "246                     Sante   \n",
       "253  Art et Lieux Historiques   \n",
       "36        Commerce et Service   \n",
       "56             Resto et Snack   \n",
       "3         Commerce et Service   \n",
       "203       Commerce et Service   \n",
       "108       Commerce et Service   \n",
       "95        Commerce et Service   \n",
       "231  Art et Lieux Historiques   \n",
       "206            Resto et Snack   \n",
       "\n",
       "                                          post_content  \\\n",
       "246                                Description à venir   \n",
       "253                                Description à venir   \n",
       "36   Accueil du Château des Princes et visites\\r\\n\\...   \n",
       "56                                 Description à venir   \n",
       "3                                  Description à venir   \n",
       "203  <img class=\"alignnone size-medium wp-image-358...   \n",
       "108                                Description à venir   \n",
       "95                                 Description à venir   \n",
       "231                                Description à venir   \n",
       "206                                Description à venir   \n",
       "\n",
       "    location_address__street location_address__city  \\\n",
       "246            bld louise 18                 chimay   \n",
       "253       Rue des Sartiaux 1                 chimay   \n",
       "36         Rue du Château 14                 chimay   \n",
       "56            Rue Rogier, 16                 chimay   \n",
       "3        Rue de Bourlers, 1a                 chimay   \n",
       "203       Rue de Virelles 18                 chimay   \n",
       "108            Les Fermes 70              bailievre   \n",
       "95       Rue de Scourmont 8a               bourlers   \n",
       "231       Rue de Virelles 45                 chimay   \n",
       "206   Rue de la poterie 49/a                 chimay   \n",
       "\n",
       "                      location_address__address  location_address__lat  \\\n",
       "246  Boulevard Louise 18, 6460 Chimay, Belgique              50.044836   \n",
       "253   Rue des Sartiaux 1, 6460 Chimay, Belgique              50.046503   \n",
       "36               Rue du Château 14, 6460 CHIMAY              50.049007   \n",
       "56                  Rue Rogier, 16, 6460 CHIMAY              50.049254   \n",
       "3              Rue de Bourlers, 1a, 6460 CHIMAY              50.047945   \n",
       "203             Rue de Virelles 18, 6460 CHIMAY              50.049156   \n",
       "108               Les Fermes 70, 6460 BAILIEVRE              50.072106   \n",
       "95           Rue de Scourmont 8a, 6464 BOURLERS              49.983862   \n",
       "231   Rue de Virelles 45, 6460 Chimay, Belgique              50.049782   \n",
       "206         Rue de la poterie 49/a, 6460 Chimay              50.027345   \n",
       "\n",
       "    location_address__term_id  location_address__lng  location_address__zip  \\\n",
       "246                    chimay               4.310034                 6460.0   \n",
       "253                    chimay               4.317866                 6460.0   \n",
       "36                     chimay               4.314408                 6460.0   \n",
       "56                     chimay               4.316838                 6460.0   \n",
       "3                      chimay               4.321365                 6460.0   \n",
       "203                    chimay               4.320624                 6460.0   \n",
       "108                 bailievre               4.234756                 6460.0   \n",
       "95                   bourlers               4.348660                 6464.0   \n",
       "231                    chimay               4.321041                 6460.0   \n",
       "206                    chimay               4.335023                 6460.0   \n",
       "\n",
       "                        post_title   field_phone  \\\n",
       "246        Hôpital de Chimay (CSF)     060218811   \n",
       "253        Chapelle Saint-Ghislain             0   \n",
       "36   Boutique Du Château De Chimay  060/21.45.31   \n",
       "56                 Comme Chez Vero  060/21 43 77   \n",
       "3                      Ad Delhaize  060/21 23 90   \n",
       "203                          Tooba  060/21 46 78   \n",
       "108              La Baie Du Lievre  060/21 21 44   \n",
       "95              Gite Des 4 Saisons  060/21 42 46   \n",
       "231     Atelier Laurent Nemeghaire    0498698082   \n",
       "206            Traiteur Jg Demeyer   0477/509105   \n",
       "\n",
       "                     field_social_accounts__facebook field_website  \n",
       "246                                          A venir       A venir  \n",
       "253                                          A venir       A venir  \n",
       "36                                           A venir       A venir  \n",
       "56            https://www.facebook.com/Commechezvero       A venir  \n",
       "3                                            A venir       A venir  \n",
       "203  https://www.facebook.com/Tooba-1705096649712383       A venir  \n",
       "108                                          A venir       A venir  \n",
       "95                                           A venir       A venir  \n",
       "231                                          A venir       A venir  \n",
       "206                                          A venir       A venir  "
      ],
      "text/html": "<div>\n<style scoped>\n    .dataframe tbody tr th:only-of-type {\n        vertical-align: middle;\n    }\n\n    .dataframe tbody tr th {\n        vertical-align: top;\n    }\n\n    .dataframe thead th {\n        text-align: right;\n    }\n</style>\n<table border=\"1\" class=\"dataframe\">\n  <thead>\n    <tr style=\"text-align: right;\">\n      <th></th>\n      <th>directory_category</th>\n      <th>post_content</th>\n      <th>location_address__street</th>\n      <th>location_address__city</th>\n      <th>location_address__address</th>\n      <th>location_address__lat</th>\n      <th>location_address__term_id</th>\n      <th>location_address__lng</th>\n      <th>location_address__zip</th>\n      <th>post_title</th>\n      <th>field_phone</th>\n      <th>field_social_accounts__facebook</th>\n      <th>field_website</th>\n    </tr>\n  </thead>\n  <tbody>\n    <tr>\n      <th>246</th>\n      <td>Sante</td>\n      <td>Description à venir</td>\n      <td>bld louise 18</td>\n      <td>chimay</td>\n      <td>Boulevard Louise 18, 6460 Chimay, Belgique</td>\n      <td>50.044836</td>\n      <td>chimay</td>\n      <td>4.310034</td>\n      <td>6460.0</td>\n      <td>Hôpital de Chimay (CSF)</td>\n      <td>060218811</td>\n      <td>A venir</td>\n      <td>A venir</td>\n    </tr>\n    <tr>\n      <th>253</th>\n      <td>Art et Lieux Historiques</td>\n      <td>Description à venir</td>\n      <td>Rue des Sartiaux 1</td>\n      <td>chimay</td>\n      <td>Rue des Sartiaux 1, 6460 Chimay, Belgique</td>\n      <td>50.046503</td>\n      <td>chimay</td>\n      <td>4.317866</td>\n      <td>6460.0</td>\n      <td>Chapelle Saint-Ghislain</td>\n      <td>0</td>\n      <td>A venir</td>\n      <td>A venir</td>\n    </tr>\n    <tr>\n      <th>36</th>\n      <td>Commerce et Service</td>\n      <td>Accueil du Château des Princes et visites\\r\\n\\...</td>\n      <td>Rue du Château 14</td>\n      <td>chimay</td>\n      <td>Rue du Château 14, 6460 CHIMAY</td>\n      <td>50.049007</td>\n      <td>chimay</td>\n      <td>4.314408</td>\n      <td>6460.0</td>\n      <td>Boutique Du Château De Chimay</td>\n      <td>060/21.45.31</td>\n      <td>A venir</td>\n      <td>A venir</td>\n    </tr>\n    <tr>\n      <th>56</th>\n      <td>Resto et Snack</td>\n      <td>Description à venir</td>\n      <td>Rue Rogier, 16</td>\n      <td>chimay</td>\n      <td>Rue Rogier, 16, 6460 CHIMAY</td>\n      <td>50.049254</td>\n      <td>chimay</td>\n      <td>4.316838</td>\n      <td>6460.0</td>\n      <td>Comme Chez Vero</td>\n      <td>060/21 43 77</td>\n      <td>https://www.facebook.com/Commechezvero</td>\n      <td>A venir</td>\n    </tr>\n    <tr>\n      <th>3</th>\n      <td>Commerce et Service</td>\n      <td>Description à venir</td>\n      <td>Rue de Bourlers, 1a</td>\n      <td>chimay</td>\n      <td>Rue de Bourlers, 1a, 6460 CHIMAY</td>\n      <td>50.047945</td>\n      <td>chimay</td>\n      <td>4.321365</td>\n      <td>6460.0</td>\n      <td>Ad Delhaize</td>\n      <td>060/21 23 90</td>\n      <td>A venir</td>\n      <td>A venir</td>\n    </tr>\n    <tr>\n      <th>203</th>\n      <td>Commerce et Service</td>\n      <td>&lt;img class=\"alignnone size-medium wp-image-358...</td>\n      <td>Rue de Virelles 18</td>\n      <td>chimay</td>\n      <td>Rue de Virelles 18, 6460 CHIMAY</td>\n      <td>50.049156</td>\n      <td>chimay</td>\n      <td>4.320624</td>\n      <td>6460.0</td>\n      <td>Tooba</td>\n      <td>060/21 46 78</td>\n      <td>https://www.facebook.com/Tooba-1705096649712383</td>\n      <td>A venir</td>\n    </tr>\n    <tr>\n      <th>108</th>\n      <td>Commerce et Service</td>\n      <td>Description à venir</td>\n      <td>Les Fermes 70</td>\n      <td>bailievre</td>\n      <td>Les Fermes 70, 6460 BAILIEVRE</td>\n      <td>50.072106</td>\n      <td>bailievre</td>\n      <td>4.234756</td>\n      <td>6460.0</td>\n      <td>La Baie Du Lievre</td>\n      <td>060/21 21 44</td>\n      <td>A venir</td>\n      <td>A venir</td>\n    </tr>\n    <tr>\n      <th>95</th>\n      <td>Commerce et Service</td>\n      <td>Description à venir</td>\n      <td>Rue de Scourmont 8a</td>\n      <td>bourlers</td>\n      <td>Rue de Scourmont 8a, 6464 BOURLERS</td>\n      <td>49.983862</td>\n      <td>bourlers</td>\n      <td>4.348660</td>\n      <td>6464.0</td>\n      <td>Gite Des 4 Saisons</td>\n      <td>060/21 42 46</td>\n      <td>A venir</td>\n      <td>A venir</td>\n    </tr>\n    <tr>\n      <th>231</th>\n      <td>Art et Lieux Historiques</td>\n      <td>Description à venir</td>\n      <td>Rue de Virelles 45</td>\n      <td>chimay</td>\n      <td>Rue de Virelles 45, 6460 Chimay, Belgique</td>\n      <td>50.049782</td>\n      <td>chimay</td>\n      <td>4.321041</td>\n      <td>6460.0</td>\n      <td>Atelier Laurent Nemeghaire</td>\n      <td>0498698082</td>\n      <td>A venir</td>\n      <td>A venir</td>\n    </tr>\n    <tr>\n      <th>206</th>\n      <td>Resto et Snack</td>\n      <td>Description à venir</td>\n      <td>Rue de la poterie 49/a</td>\n      <td>chimay</td>\n      <td>Rue de la poterie 49/a, 6460 Chimay</td>\n      <td>50.027345</td>\n      <td>chimay</td>\n      <td>4.335023</td>\n      <td>6460.0</td>\n      <td>Traiteur Jg Demeyer</td>\n      <td>0477/509105</td>\n      <td>A venir</td>\n      <td>A venir</td>\n    </tr>\n  </tbody>\n</table>\n</div>"
     },
     "metadata": {},
     "execution_count": 23
    }
   ],
   "source": [
    "df2.sample(10)"
   ]
  },
  {
   "cell_type": "code",
   "execution_count": null,
   "metadata": {},
   "outputs": [],
   "source": []
  }
 ]
}